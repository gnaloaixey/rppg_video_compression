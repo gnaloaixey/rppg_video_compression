{
 "cells": [
  {
   "cell_type": "code",
   "execution_count": 1,
   "metadata": {},
   "outputs": [
    {
     "name": "stdout",
     "output_type": "stream",
     "text": [
      "Method and Preprocessing Name: GREEN\n",
      "Model:\n",
      "------------------\n",
      "GREEN()\n",
      "------------------\n",
      "Test Loader: UBFC_Phys\n"
     ]
    }
   ],
   "source": [
    "from singleton_pattern import load_dataset_loader,load_model,load_config,load_data_generator\n",
    "non_dnn_method_list = load_config.get_non_dnn_method_list()\n",
    "config = load_config.get_config()\n",
    "\n",
    "model = load_model.get_model()\n",
    "tensor_data_generator = load_data_generator.get_tensor_data_generator()\n",
    "print(f'Method and Preprocessing Name: {config[\"method\"]}')\n",
    "print(f'Model:\\n------------------\\n{model}\\n------------------')\n",
    "test_loader = load_dataset_loader.get_test_loader()\n",
    "print(f'Test Loader: {test_loader.loader_name}')"
   ]
  },
  {
   "cell_type": "code",
   "execution_count": 2,
   "metadata": {},
   "outputs": [
    {
     "name": "stdout",
     "output_type": "stream",
     "text": [
      "non train\n"
     ]
    }
   ],
   "source": [
    "import datetime\n",
    "def train():\n",
    "    if config['method'] in non_dnn_method_list: \n",
    "        print('non train')\n",
    "        return\n",
    "    start_time = datetime.datetime.now()\n",
    "    train_loader = load_dataset_loader.get_train_loader()\n",
    "    print(f'train_loader: {train_loader.loader_name}')\n",
    "    model.train(train_loader.load_data())\n",
    "    runtime = datetime.datetime.now() - start_time\n",
    "    hours, remainder = divmod(runtime.total_seconds(), 3600)\n",
    "    minutes, seconds = divmod(remainder, 60)\n",
    "    print(f\"train total time:  {int(hours)}h:{int(minutes)}m:{int(seconds)}s\")\n",
    "# run train\n",
    "train()"
   ]
  },
  {
   "cell_type": "code",
   "execution_count": 1,
   "metadata": {},
   "outputs": [
    {
     "ename": "NameError",
     "evalue": "name 'model' is not defined",
     "output_type": "error",
     "traceback": [
      "\u001b[1;31m---------------------------------------------------------------------------\u001b[0m",
      "\u001b[1;31mNameError\u001b[0m                                 Traceback (most recent call last)",
      "\u001b[1;32md:\\yxl\\compression\\main.ipynb Cell 3\u001b[0m line \u001b[0;36m2\n\u001b[0;32m      <a href='vscode-notebook-cell:/d%3A/yxl/compression/main.ipynb#W2sZmlsZQ%3D%3D?line=0'>1</a>\u001b[0m \u001b[39m# test\u001b[39;00m\n\u001b[1;32m----> <a href='vscode-notebook-cell:/d%3A/yxl/compression/main.ipynb#W2sZmlsZQ%3D%3D?line=1'>2</a>\u001b[0m model\u001b[39m.\u001b[39meval()\n\u001b[0;32m      <a href='vscode-notebook-cell:/d%3A/yxl/compression/main.ipynb#W2sZmlsZQ%3D%3D?line=3'>4</a>\u001b[0m data \u001b[39m=\u001b[39m test_loader\u001b[39m.\u001b[39mload_data()\n\u001b[0;32m      <a href='vscode-notebook-cell:/d%3A/yxl/compression/main.ipynb#W2sZmlsZQ%3D%3D?line=4'>5</a>\u001b[0m X,y \u001b[39m=\u001b[39m tensor_data_generator\u001b[39m.\u001b[39mgenerate_tensor_data(data)\n",
      "\u001b[1;31mNameError\u001b[0m: name 'model' is not defined"
     ]
    }
   ],
   "source": [
    "# test\n",
    "model.eval()\n",
    "\n",
    "data = test_loader.load_data()\n",
    "X,y = tensor_data_generator.generate_tensor_data(data)\n",
    "print(f'Test Video Size: {data[0].shape}')\n",
    "\n",
    "# X,y = model.preprocessing(test_df)\n",
    "# pred_y = model.forward(X)\n",
    "\n",
    "# 评价指标\n"
   ]
  }
 ],
 "metadata": {
  "kernelspec": {
   "display_name": "compress",
   "language": "python",
   "name": "python3"
  },
  "language_info": {
   "codemirror_mode": {
    "name": "ipython",
    "version": 3
   },
   "file_extension": ".py",
   "mimetype": "text/x-python",
   "name": "python",
   "nbconvert_exporter": "python",
   "pygments_lexer": "ipython3",
   "version": "3.9.18"
  },
  "orig_nbformat": 4
 },
 "nbformat": 4,
 "nbformat_minor": 2
}
