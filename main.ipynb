{
 "cells": [
  {
   "cell_type": "code",
   "execution_count": 1,
   "metadata": {},
   "outputs": [
    {
     "name": "stdout",
     "output_type": "stream",
     "text": [
      "CUDA:\n",
      "---------------------------\n",
      "PyTorch supports GPU and currently has 1 CUDA devices available.\n",
      "The current default CUDA device is: NVIDIA GeForce RTX 3090\n",
      "---------------------------\n",
      "Method and DataGenerator Name: POS\n"
     ]
    }
   ],
   "source": [
    "# config\n",
    "import common.init as init\n",
    "from singleton_pattern.load_model import get_model\n",
    "from  singleton_pattern.load_config import get_config,get_non_dnn_method_list\n",
    "from singleton_pattern.load_dataset_reader import get_train_reader,get_test_reader\n",
    "from singleton_pattern.load_data_generator import get_train_data_generator,get_test_data_generator\n",
    "from common.cache import Cache\n",
    "from common.cuda_info import get_device\n",
    "# config_name = 'PhysNet.yaml'\n",
    "config_name = 'POS.yaml'\n",
    "# init\n",
    "init.run(config_name)"
   ]
  },
  {
   "cell_type": "code",
   "execution_count": 2,
   "metadata": {},
   "outputs": [
    {
     "name": "stdout",
     "output_type": "stream",
     "text": [
      "Test Loader: UBFC_Phys\n",
      "Root Path:D:\\BaiduNetdiskDownload\\UBFC-PHYs_14-16\n",
      "Start Reading UBFC_Phys Dataset Directory...\n"
     ]
    },
    {
     "data": {
      "application/vnd.jupyter.widget-view+json": {
       "model_id": "8aa8d693b05347e4ac6b4c91753fb9d6",
       "version_major": 2,
       "version_minor": 0
      },
      "text/plain": [
       "Progress:   0%|          | 0/2 [00:00<?, ?it/s]"
      ]
     },
     "metadata": {},
     "output_type": "display_data"
    },
    {
     "name": "stdout",
     "output_type": "stream",
     "text": [
      "cache path:cache\\TEST\\22a80a0f406be3c1050d43aeac5cf28557216993083f2ce1daa4aca458450f3d\n",
      "Start Generator Data...\n",
      "cv2: CUDA is not available.\n"
     ]
    },
    {
     "data": {
      "application/vnd.jupyter.widget-view+json": {
       "model_id": "21c7d8c78816444cb7c91a6faffb0f65",
       "version_major": 2,
       "version_minor": 0
      },
      "text/plain": [
       "Progress:   0%|          | 0/2 [00:00<?, ?it/s]"
      ]
     },
     "metadata": {},
     "output_type": "display_data"
    },
    {
     "data": {
      "application/vnd.jupyter.widget-view+json": {
       "model_id": "5d1cc1aa576248aaa4dd1b02b0cc599f",
       "version_major": 2,
       "version_minor": 0
      },
      "text/plain": [
       "Processing videos 1 :   0%|          | 0/6325 [00:00<?, ?it/s]"
      ]
     },
     "metadata": {},
     "output_type": "display_data"
    }
   ],
   "source": [
    "config = get_config()\n",
    "non_dnn_method_list = get_non_dnn_method_list()\n",
    "model = get_model()\n",
    "is_need_train = config['method'] not in non_dnn_method_list\n",
    "train_dataloader = None\n",
    "# load train dataset\n",
    "if is_need_train:\n",
    "    train_reader = get_train_reader()\n",
    "    print(f'train_reader: {train_reader.loader_name}')\n",
    "    train_data = train_reader.load_data()\n",
    "    train_data_generator = get_train_data_generator()\n",
    "    train_dataloader = train_data_generator.get_tensor_dataloader(train_data)\n",
    "# load test dataset\n",
    "test_reader = get_test_reader()\n",
    "test_data_generator = get_test_data_generator()\n",
    "print(f'Test Loader: {test_reader.loader_name}')\n",
    "test_data = test_reader.load_data()\n",
    "test_dataloader = test_data_generator.get_tensor_dataloader(test_data)"
   ]
  },
  {
   "cell_type": "code",
   "execution_count": null,
   "metadata": {},
   "outputs": [
    {
     "name": "stdout",
     "output_type": "stream",
     "text": [
      "non train.\n"
     ]
    }
   ],
   "source": [
    "# if cached and want to second training, set train_twice = True\n",
    "from common.cache import CacheType\n",
    "\n",
    "train_twice = False\n",
    "# train\n",
    "if not is_need_train:\n",
    "    print('non train.')\n",
    "else:\n",
    "    from common.train_model import run as run_train\n",
    "    if train_dataloader is None:\n",
    "        raise Exception('load train dataloader first')\n",
    "    if train_twice:\n",
    "        cache_model = Cache(CacheType.MODEL).read_model()\n",
    "        model.load_state_dict(cache_model.state_dict())\n",
    "    run_train(model,train_dataloader,test_dataloader)"
   ]
  },
  {
   "cell_type": "code",
   "execution_count": 9,
   "metadata": {},
   "outputs": [],
   "source": [
    "# load test model\n",
    "use_cache_model = True\n",
    "\n",
    "import matplotlib.pyplot as plt\n",
    "import numpy as np\n",
    "if use_cache_model and is_need_train:\n",
    "    cache_model = Cache('model').read_model()\n",
    "    model.load_state_dict(cache_model.state_dict())\n",
    "model.eval()\n",
    "model.to(get_device())\n",
    "pass"
   ]
  },
  {
   "cell_type": "code",
   "execution_count": 5,
   "metadata": {},
   "outputs": [
    {
     "ename": "RuntimeError",
     "evalue": "number of dims don't match in permute",
     "output_type": "error",
     "traceback": [
      "\u001b[1;31m---------------------------------------------------------------------------\u001b[0m",
      "\u001b[1;31mRuntimeError\u001b[0m                              Traceback (most recent call last)",
      "\u001b[1;32md:\\yxl\\compression\\main.ipynb Cell 5\u001b[0m line \u001b[0;36m1\n\u001b[0;32m     <a href='vscode-notebook-cell:/d%3A/yxl/compression/main.ipynb#W4sZmlsZQ%3D%3D?line=10'>11</a>\u001b[0m batch_X \u001b[39m=\u001b[39m batch_X\u001b[39m.\u001b[39mview(\u001b[39m1\u001b[39m, \u001b[39m-\u001b[39m\u001b[39m1\u001b[39m)\u001b[39m.\u001b[39mto(gpu_device)\n\u001b[0;32m     <a href='vscode-notebook-cell:/d%3A/yxl/compression/main.ipynb#W4sZmlsZQ%3D%3D?line=11'>12</a>\u001b[0m batch_y \u001b[39m=\u001b[39m batch_y\u001b[39m.\u001b[39mto(gpu_device)\n\u001b[1;32m---> <a href='vscode-notebook-cell:/d%3A/yxl/compression/main.ipynb#W4sZmlsZQ%3D%3D?line=12'>13</a>\u001b[0m pred \u001b[39m=\u001b[39m model(batch_X)\n\u001b[0;32m     <a href='vscode-notebook-cell:/d%3A/yxl/compression/main.ipynb#W4sZmlsZQ%3D%3D?line=13'>14</a>\u001b[0m true_data \u001b[39m=\u001b[39m np\u001b[39m.\u001b[39marray(batch_y\u001b[39m.\u001b[39mdetach()\u001b[39m.\u001b[39mview(\u001b[39m-\u001b[39m\u001b[39m1\u001b[39m)\u001b[39m.\u001b[39mnumpy())\n\u001b[0;32m     <a href='vscode-notebook-cell:/d%3A/yxl/compression/main.ipynb#W4sZmlsZQ%3D%3D?line=14'>15</a>\u001b[0m pred_data \u001b[39m=\u001b[39m np\u001b[39m.\u001b[39marray(pred\u001b[39m.\u001b[39mdetach()\u001b[39m.\u001b[39mview(\u001b[39m-\u001b[39m\u001b[39m1\u001b[39m)\u001b[39m.\u001b[39mnumpy())\n",
      "File \u001b[1;32mc:\\Users\\Bob2006\\.conda\\envs\\compress\\lib\\site-packages\\torch\\nn\\modules\\module.py:1130\u001b[0m, in \u001b[0;36mModule._call_impl\u001b[1;34m(self, *input, **kwargs)\u001b[0m\n\u001b[0;32m   1126\u001b[0m \u001b[39m# If we don't have any hooks, we want to skip the rest of the logic in\u001b[39;00m\n\u001b[0;32m   1127\u001b[0m \u001b[39m# this function, and just call forward.\u001b[39;00m\n\u001b[0;32m   1128\u001b[0m \u001b[39mif\u001b[39;00m \u001b[39mnot\u001b[39;00m (\u001b[39mself\u001b[39m\u001b[39m.\u001b[39m_backward_hooks \u001b[39mor\u001b[39;00m \u001b[39mself\u001b[39m\u001b[39m.\u001b[39m_forward_hooks \u001b[39mor\u001b[39;00m \u001b[39mself\u001b[39m\u001b[39m.\u001b[39m_forward_pre_hooks \u001b[39mor\u001b[39;00m _global_backward_hooks\n\u001b[0;32m   1129\u001b[0m         \u001b[39mor\u001b[39;00m _global_forward_hooks \u001b[39mor\u001b[39;00m _global_forward_pre_hooks):\n\u001b[1;32m-> 1130\u001b[0m     \u001b[39mreturn\u001b[39;00m forward_call(\u001b[39m*\u001b[39m\u001b[39minput\u001b[39m, \u001b[39m*\u001b[39m\u001b[39m*\u001b[39mkwargs)\n\u001b[0;32m   1131\u001b[0m \u001b[39m# Do not call functions when jit is used\u001b[39;00m\n\u001b[0;32m   1132\u001b[0m full_backward_hooks, non_full_backward_hooks \u001b[39m=\u001b[39m [], []\n",
      "File \u001b[1;32md:\\yxl\\compression\\method\\POS.py:16\u001b[0m, in \u001b[0;36mPOS.forward\u001b[1;34m(self, x)\u001b[0m\n\u001b[0;32m     14\u001b[0m \u001b[39mdef\u001b[39;00m \u001b[39mforward\u001b[39m(\u001b[39mself\u001b[39m,x):\n\u001b[1;32m---> 16\u001b[0m     x \u001b[39m=\u001b[39m torch\u001b[39m.\u001b[39;49mpermute(x, (\u001b[39m0\u001b[39;49m, \u001b[39m2\u001b[39;49m, \u001b[39m1\u001b[39;49m, \u001b[39m3\u001b[39;49m,\u001b[39m4\u001b[39;49m))  \u001b[39m# (B, N, C)\u001b[39;00m\n\u001b[0;32m     17\u001b[0m     x \u001b[39m=\u001b[39m torch\u001b[39m.\u001b[39mmean(x, dim\u001b[39m=\u001b[39m(\u001b[39m3\u001b[39m, \u001b[39m4\u001b[39m))\n\u001b[0;32m     19\u001b[0m     batch_size, N, num_features \u001b[39m=\u001b[39m x\u001b[39m.\u001b[39mshape\n",
      "\u001b[1;31mRuntimeError\u001b[0m: number of dims don't match in permute"
     ]
    },
    {
     "data": {
      "image/png": "[encoded data removed]",
      "text/plain": [
       "<Figure size 640x480 with 1 Axes>"
      ]
     },
     "metadata": {},
     "output_type": "display_data"
    }
   ],
   "source": [
    "# output image\n",
    "i = 0\n",
    "gpu_device = get_device()\n",
    "for batch_X, batch_y in test_dataloader:\n",
    "    index_n = 7\n",
    "    if i == index_n:\n",
    "        plt.title(\"BVP PRED\")\n",
    "        plt.xlabel(\"T\")\n",
    "        plt.ylabel(\"BVP\")\n",
    "\n",
    "        batch_X = batch_X.to(gpu_device)\n",
    "        batch_y = batch_y.to(gpu_device)\n",
    "        pred = model(batch_X)\n",
    "        true_data = np.array(batch_y.detach().view(-1).numpy())\n",
    "        pred_data = np.array(pred.detach().view(-1).numpy())\n",
    "        true_data = true_data = (true_data - true_data.mean())/true_data.std()\n",
    "        pred_data = pred_data = (pred_data - pred_data.mean())/pred_data.std()\n",
    "        plt.plot(true_data, label=\"True Line\")\n",
    "        plt.plot(pred_data, label=\"Pred Line\")\n",
    "        plt.legend()\n",
    "        plt.show()\n",
    "    if i > index_n:\n",
    "        break\n",
    "    i+=1\n"
   ]
  },
  {
   "cell_type": "code",
   "execution_count": null,
   "metadata": {},
   "outputs": [
    {
     "name": "stdout",
     "output_type": "stream",
     "text": [
      "hhh\n"
     ]
    }
   ],
   "source": [
    "try:\n",
    "    while True:\n",
    "        pass\n",
    "except KeyboardInterrupt:\n",
    "    print(\"hhh\")"
   ]
  }
 ],
 "metadata": {
  "kernelspec": {
   "display_name": "compress",
   "language": "python",
   "name": "python3"
  },
  "language_info": {
   "codemirror_mode": {
    "name": "ipython",
    "version": 3
   },
   "file_extension": ".py",
   "mimetype": "text/x-python",
   "name": "python",
   "nbconvert_exporter": "python",
   "pygments_lexer": "ipython3",
   "version": "3.9.18"
  },
  "orig_nbformat": 4
 },
 "nbformat": 4,
 "nbformat_minor": 2
}
