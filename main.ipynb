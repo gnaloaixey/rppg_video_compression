{
 "cells": [
  {
   "cell_type": "code",
   "execution_count": 9,
   "metadata": {},
   "outputs": [
    {
     "name": "stdout",
     "output_type": "stream",
     "text": [
      "model:\n",
      "------------------\n",
      "GREEN()\n",
      "------------------\n",
      "test_loader: UBFC_Phys\n"
     ]
    }
   ],
   "source": [
    "from singleton_pattern import load_dataset_loader,load_model,load_config\n",
    "non_dnn_method_list = load_config.get_non_dnn_method_list()\n",
    "config = load_config.get_config()\n",
    "\n",
    "model = load_model.get_model()\n",
    "print(f'model:\\n------------------\\n{model}\\n------------------')\n",
    "test_loader = load_dataset_loader.get_test_loader()\n",
    "print(f'test_loader: {test_loader.loader_name}')"
   ]
  },
  {
   "cell_type": "code",
   "execution_count": 6,
   "metadata": {},
   "outputs": [
    {
     "name": "stdout",
     "output_type": "stream",
     "text": [
      "non train\n"
     ]
    }
   ],
   "source": [
    "import datetime\n",
    "def train():\n",
    "    if config['method'] in non_dnn_method_list: \n",
    "        print('non train')\n",
    "        return\n",
    "    start_time = datetime.datetime.now()\n",
    "    train_loader = load_dataset_loader.get_train_loader()\n",
    "    print(f'train_loader: {train_loader.loader_name}')\n",
    "    model.train(train_loader.load_data())\n",
    "    runtime = datetime.datetime.now() - start_time\n",
    "    hours, remainder = divmod(runtime.total_seconds(), 3600)\n",
    "    minutes, seconds = divmod(remainder, 60)\n",
    "    print(f\"train total time:  {int(hours)}h:{int(minutes)}m:{int(seconds)}s\")\n",
    "# run train\n",
    "train()"
   ]
  },
  {
   "cell_type": "code",
   "execution_count": 3,
   "metadata": {},
   "outputs": [
    {
     "ename": "TypeError",
     "evalue": "cannot unpack non-iterable NoneType object",
     "output_type": "error",
     "traceback": [
      "\u001b[1;31m---------------------------------------------------------------------------\u001b[0m",
      "\u001b[1;31mTypeError\u001b[0m                                 Traceback (most recent call last)",
      "\u001b[1;32md:\\yxl\\compression\\main.ipynb Cell 3\u001b[0m line \u001b[0;36m5\n\u001b[0;32m      <a href='vscode-notebook-cell:/d%3A/yxl/compression/main.ipynb#W3sZmlsZQ%3D%3D?line=1'>2</a>\u001b[0m model\u001b[39m.\u001b[39meval()\n\u001b[0;32m      <a href='vscode-notebook-cell:/d%3A/yxl/compression/main.ipynb#W3sZmlsZQ%3D%3D?line=3'>4</a>\u001b[0m test_df \u001b[39m=\u001b[39m test_loader\u001b[39m.\u001b[39mload_data()\n\u001b[1;32m----> <a href='vscode-notebook-cell:/d%3A/yxl/compression/main.ipynb#W3sZmlsZQ%3D%3D?line=4'>5</a>\u001b[0m X,y \u001b[39m=\u001b[39m model\u001b[39m.\u001b[39mpreprocessing(test_df)\n\u001b[0;32m      <a href='vscode-notebook-cell:/d%3A/yxl/compression/main.ipynb#W3sZmlsZQ%3D%3D?line=5'>6</a>\u001b[0m pred_y \u001b[39m=\u001b[39m model\u001b[39m.\u001b[39mforward(X)\n",
      "\u001b[1;31mTypeError\u001b[0m: cannot unpack non-iterable NoneType object"
     ]
    }
   ],
   "source": [
    "# test\n",
    "model.eval()\n",
    "\n",
    "test_df = test_loader.load_data()\n",
    "X,y = model.preprocessing(test_df)\n",
    "pred_y = model.forward(X)\n",
    "\n",
    "# 评价指标\n"
   ]
  },
  {
   "cell_type": "code",
   "execution_count": 17,
   "metadata": {},
   "outputs": [
    {
     "ename": "TypeError",
     "evalue": "mean() received an invalid combination of arguments - got (list, dim=tuple), but expected one of:\n * (Tensor input, *, torch.dtype dtype)\n * (Tensor input, tuple of ints dim, bool keepdim, *, torch.dtype dtype, Tensor out)\n * (Tensor input, tuple of names dim, bool keepdim, *, torch.dtype dtype, Tensor out)\n",
     "output_type": "error",
     "traceback": [
      "\u001b[1;31m---------------------------------------------------------------------------\u001b[0m",
      "\u001b[1;31mTypeError\u001b[0m                                 Traceback (most recent call last)",
      "\u001b[1;32md:\\yxl\\compression\\main.ipynb Cell 4\u001b[0m line \u001b[0;36m1\n\u001b[1;32m----> <a href='vscode-notebook-cell:/d%3A/yxl/compression/main.ipynb#W4sZmlsZQ%3D%3D?line=0'>1</a>\u001b[0m model\u001b[39m.\u001b[39;49mforward([\u001b[39m1\u001b[39;49m,\u001b[39m2\u001b[39;49m,\u001b[39m34\u001b[39;49m,\u001b[39m2\u001b[39;49m,])\n",
      "File \u001b[1;32md:\\yxl\\compression\\method\\GREEN.py:11\u001b[0m, in \u001b[0;36mGREEN.forward\u001b[1;34m(self, x)\u001b[0m\n\u001b[0;32m      7\u001b[0m \u001b[39mdef\u001b[39;00m \u001b[39mforward\u001b[39m(\u001b[39mself\u001b[39m,x):\n\u001b[0;32m      8\u001b[0m     \u001b[39m# x[:,2] : R channel\u001b[39;00m\n\u001b[0;32m      9\u001b[0m     \u001b[39m# x = x[:,1] # B T H W\u001b[39;00m\n\u001b[0;32m     10\u001b[0m     \u001b[39m# B, T, H, W  = x.shape\u001b[39;00m\n\u001b[1;32m---> 11\u001b[0m     x \u001b[39m=\u001b[39m torch\u001b[39m.\u001b[39;49mmean(x, dim\u001b[39m=\u001b[39;49m(\u001b[39m3\u001b[39;49m,\u001b[39m4\u001b[39;49m))\n\u001b[0;32m     12\u001b[0m     \u001b[39mreturn\u001b[39;00m x[:,\u001b[39m1\u001b[39m,:]\u001b[39m.\u001b[39mreshape(\u001b[39m-\u001b[39m\u001b[39m1\u001b[39m)\n",
      "\u001b[1;31mTypeError\u001b[0m: mean() received an invalid combination of arguments - got (list, dim=tuple), but expected one of:\n * (Tensor input, *, torch.dtype dtype)\n * (Tensor input, tuple of ints dim, bool keepdim, *, torch.dtype dtype, Tensor out)\n * (Tensor input, tuple of names dim, bool keepdim, *, torch.dtype dtype, Tensor out)\n"
     ]
    }
   ],
   "source": [
    "model.forward([1,2,34,2,])"
   ]
  }
 ],
 "metadata": {
  "kernelspec": {
   "display_name": "compress",
   "language": "python",
   "name": "python3"
  },
  "language_info": {
   "codemirror_mode": {
    "name": "ipython",
    "version": 3
   },
   "file_extension": ".py",
   "mimetype": "text/x-python",
   "name": "python",
   "nbconvert_exporter": "python",
   "pygments_lexer": "ipython3",
   "version": "3.9.18"
  },
  "orig_nbformat": 4
 },
 "nbformat": 4,
 "nbformat_minor": 2
}
