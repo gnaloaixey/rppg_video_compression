{
 "cells": [
  {
   "cell_type": "code",
   "execution_count": 1,
   "metadata": {},
   "outputs": [],
   "source": [
    "# config\n",
    "# config_name = 'config.yaml'\n",
    "# config_name = 'LSTCrPPG.yaml'\n",
    "config_name = 'PhysNet.yaml'\n",
    "force_clear_train_cache = False\n",
    "force_clear_test_cache = False"
   ]
  },
  {
   "cell_type": "code",
   "execution_count": 2,
   "metadata": {},
   "outputs": [
    {
     "name": "stdout",
     "output_type": "stream",
     "text": [
      "CUDA:\n",
      "---------------------------\n",
      "PyTorch supports GPU and currently has 1 CUDA devices available.\n",
      "The current default CUDA device is: NVIDIA GeForce RTX 3090\n",
      "---------------------------\n",
      "config_hash:b9beae6638c3f109c18742aedb2d1be048f5ff9adb50d2948c9f42f308696abe\n",
      "Method and Preprocessing Name: PhysNet\n"
     ]
    }
   ],
   "source": [
    "from singleton_pattern import load_model,load_data_generator,load_config\n",
    "from singleton_pattern.load_dataset_reader import get_train_reader,get_test_reader\n",
    "from singleton_pattern.load_data_generator import get_train_data_generator,get_test_data_generator\n",
    "load_config.init_config(config_name)\n",
    "\n",
    "from util.torch_info import print_info\n",
    "print_info()\n",
    "non_dnn_method_list = load_config.get_non_dnn_method_list()\n",
    "\n",
    "config_hash = load_config.get_config_hash()\n",
    "print(f'config_hash:{config_hash}')\n",
    "\n",
    "config = load_config.get_config()\n",
    "model = load_model.get_model()\n",
    "\n",
    "print(f'Method and Preprocessing Name: {config[\"method\"]}')\n",
    "# print(f'Model:\\n------------------\\n{model}\\n------------------')"
   ]
  },
  {
   "cell_type": "code",
   "execution_count": 3,
   "metadata": {},
   "outputs": [
    {
     "name": "stdout",
     "output_type": "stream",
     "text": [
      "train_reader: UBFC_Phys\n",
      "Root Path:D:\\BaiduNetdiskDownload\\UBFC-PHYs_1-12\n",
      "Start Reading UBFC_Phys Dataset Directory...\n"
     ]
    },
    {
     "data": {
      "application/vnd.jupyter.widget-view+json": {
       "model_id": "e5fce3a8cd93424c8329679e10e7c7c2",
       "version_major": 2,
       "version_minor": 0
      },
      "text/plain": [
       "Progress:   0%|          | 0/12 [00:00<?, ?it/s]"
      ]
     },
     "metadata": {},
     "output_type": "display_data"
    },
    {
     "name": "stdout",
     "output_type": "stream",
     "text": [
      "cache\\b9beae6638c3f109c18742aedb2d1be048f5ff9adb50d2948c9f42f308696abe\\train\n",
      "Start Generator Data...\n"
     ]
    },
    {
     "data": {
      "application/vnd.jupyter.widget-view+json": {
       "model_id": "0a862f8581a5427487e3bc35ed03ac3f",
       "version_major": 2,
       "version_minor": 0
      },
      "text/plain": [
       "Progress:   0%|          | 0/12 [00:00<?, ?it/s]"
      ]
     },
     "metadata": {},
     "output_type": "display_data"
    },
    {
     "data": {
      "application/vnd.jupyter.widget-view+json": {
       "model_id": "1cc5c975f77f403da04ba156a6a65bcf",
       "version_major": 2,
       "version_minor": 0
      },
      "text/plain": [
       "Processing videos 1 :   0%|          | 0/6326 [00:00<?, ?it/s]"
      ]
     },
     "metadata": {},
     "output_type": "display_data"
    }
   ],
   "source": [
    "import datetime\n",
    "dataloader = None\n",
    "def load_train_loader():\n",
    "    global dataloader\n",
    "    if dataloader != None:\n",
    "        return dataloader\n",
    "    train_reader = get_train_reader()\n",
    "    print(f'train_reader: {train_reader.loader_name}')\n",
    "    data = train_reader.load_data()\n",
    "    tensor_data_generator = get_train_data_generator()\n",
    "    dataloader = tensor_data_generator.get_tensor_dataloader(data,force_clear_cache=force_clear_train_cache)\n",
    "    return dataloader\n",
    "def train():\n",
    "    if config['method'] in non_dnn_method_list: \n",
    "        print('non train')\n",
    "        return\n",
    "    dataloader = load_train_loader()\n",
    "    start_time = datetime.datetime.now()\n",
    "    model.train_model(dataloader)\n",
    "    runtime = datetime.datetime.now() - start_time\n",
    "    hours, remainder = divmod(runtime.total_seconds(), 3600)\n",
    "    minutes, seconds = divmod(remainder, 60)\n",
    "    print(f\"train total time:  {int(hours)}h:{int(minutes)}m:{int(seconds)}s\")\n",
    "# run train\n",
    "train()"
   ]
  },
  {
   "cell_type": "code",
   "execution_count": null,
   "metadata": {},
   "outputs": [],
   "source": [
    "from method.LSTCrPPG import LSTCrPPG\n",
    "from method.PhysNet import PhysNet\n",
    "import torch\n",
    "input_data = torch.randn(3, 3, 160, 128, 128)\n",
    "model = PhysNet()\n",
    "\n",
    "model.eval()\n",
    "model(input_data)\n"
   ]
  },
  {
   "cell_type": "code",
   "execution_count": null,
   "metadata": {},
   "outputs": [],
   "source": [
    "test_reader = get_test_reader()\n",
    "tensor_data_generator = get_test_data_generator()\n",
    "print(f'Test Loader: {test_reader.loader_name}')\n",
    "# test\n",
    "model.eval()\n",
    "\n",
    "data = test_reader.load_data()\n",
    "test_dataloader = tensor_data_generator.get_tensor_dataloader(data,force_clear_cache=force_clear_test_cache)\n",
    "\n",
    "# X,y = model.preprocessing(test_df)\n",
    "# pred_y = model.forward(X)\n",
    "\n",
    "# 评价指标\n"
   ]
  }
 ],
 "metadata": {
  "kernelspec": {
   "display_name": "compress",
   "language": "python",
   "name": "python3"
  },
  "language_info": {
   "codemirror_mode": {
    "name": "ipython",
    "version": 3
   },
   "file_extension": ".py",
   "mimetype": "text/x-python",
   "name": "python",
   "nbconvert_exporter": "python",
   "pygments_lexer": "ipython3",
   "version": "3.9.18"
  },
  "orig_nbformat": 4
 },
 "nbformat": 4,
 "nbformat_minor": 2
}
