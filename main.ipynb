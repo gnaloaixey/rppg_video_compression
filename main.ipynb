{
 "cells": [
  {
   "cell_type": "code",
   "execution_count": 1,
   "metadata": {},
   "outputs": [
    {
     "name": "stderr",
     "output_type": "stream",
     "text": [
      "c:\\Users\\Bob2006\\.conda\\envs\\compress\\lib\\site-packages\\tqdm\\auto.py:21: TqdmWarning: IProgress not found. Please update jupyter and ipywidgets. See https://ipywidgets.readthedocs.io/en/stable/user_install.html\n",
      "  from .autonotebook import tqdm as notebook_tqdm\n"
     ]
    },
    {
     "name": "stdout",
     "output_type": "stream",
     "text": [
      "CUDA:\n",
      "------------------\n",
      "PyTorch supports GPU and currently has 1 CUDA devices available.\n",
      "The current default CUDA device is: NVIDIA GeForce GTX 1050 Ti\n",
      "------------------\n"
     ]
    },
    {
     "ename": "RuntimeError",
     "evalue": "Unable to open ./res/shape_predictor_68_face_landmarks.dat",
     "output_type": "error",
     "traceback": [
      "\u001b[1;31m---------------------------------------------------------------------------\u001b[0m",
      "\u001b[1;31mRuntimeError\u001b[0m                              Traceback (most recent call last)",
      "Cell \u001b[1;32mIn[1], line 8\u001b[0m\n\u001b[0;32m      5\u001b[0m config \u001b[39m=\u001b[39m load_config\u001b[39m.\u001b[39mget_config()\n\u001b[0;32m      7\u001b[0m model \u001b[39m=\u001b[39m load_model\u001b[39m.\u001b[39mget_model()\n\u001b[1;32m----> 8\u001b[0m tensor_data_generator \u001b[39m=\u001b[39m load_data_generator\u001b[39m.\u001b[39;49mget_tensor_data_generator()\n\u001b[0;32m      9\u001b[0m \u001b[39mprint\u001b[39m(\u001b[39mf\u001b[39m\u001b[39m'\u001b[39m\u001b[39mMethod and Preprocessing Name: \u001b[39m\u001b[39m{\u001b[39;00mconfig[\u001b[39m\"\u001b[39m\u001b[39mmethod\u001b[39m\u001b[39m\"\u001b[39m]\u001b[39m}\u001b[39;00m\u001b[39m'\u001b[39m)\n\u001b[0;32m     10\u001b[0m \u001b[39mprint\u001b[39m(\u001b[39mf\u001b[39m\u001b[39m'\u001b[39m\u001b[39mModel:\u001b[39m\u001b[39m\\n\u001b[39;00m\u001b[39m------------------\u001b[39m\u001b[39m\\n\u001b[39;00m\u001b[39m{\u001b[39;00mmodel\u001b[39m}\u001b[39;00m\u001b[39m\\n\u001b[39;00m\u001b[39m------------------\u001b[39m\u001b[39m'\u001b[39m)\n",
      "File \u001b[1;32mf:\\project\\rppg_video_compression\\singleton_pattern\\load_data_generator.py:9\u001b[0m, in \u001b[0;36mget_tensor_data_generator\u001b[1;34m()\u001b[0m\n\u001b[0;32m      7\u001b[0m \u001b[39mif\u001b[39;00m __generator \u001b[39m==\u001b[39m \u001b[39mNone\u001b[39;00m:\n\u001b[0;32m      8\u001b[0m     method_name \u001b[39m=\u001b[39m __config[\u001b[39m'\u001b[39m\u001b[39mmethod\u001b[39m\u001b[39m'\u001b[39m]\n\u001b[1;32m----> 9\u001b[0m     model_file \u001b[39m=\u001b[39m __import_module(\u001b[39mf\u001b[39;49m\u001b[39m'\u001b[39;49m\u001b[39mdata_generator.\u001b[39;49m\u001b[39m{\u001b[39;49;00mmethod_name\u001b[39m}\u001b[39;49;00m\u001b[39m'\u001b[39;49m)\n\u001b[0;32m     10\u001b[0m     DataGenerator \u001b[39m=\u001b[39m \u001b[39mgetattr\u001b[39m(model_file,\u001b[39m'\u001b[39m\u001b[39mDataGenerator\u001b[39m\u001b[39m'\u001b[39m)\n\u001b[0;32m     11\u001b[0m     __generator \u001b[39m=\u001b[39m DataGenerator()\n",
      "File \u001b[1;32mc:\\Users\\Administrator\\miniconda3\\envs\\compression\\lib\\importlib\\__init__.py:127\u001b[0m, in \u001b[0;36mimport_module\u001b[1;34m(name, package)\u001b[0m\n\u001b[0;32m    125\u001b[0m             \u001b[39mbreak\u001b[39;00m\n\u001b[0;32m    126\u001b[0m         level \u001b[39m+\u001b[39m\u001b[39m=\u001b[39m \u001b[39m1\u001b[39m\n\u001b[1;32m--> 127\u001b[0m \u001b[39mreturn\u001b[39;00m _bootstrap\u001b[39m.\u001b[39;49m_gcd_import(name[level:], package, level)\n",
      "File \u001b[1;32m<frozen importlib._bootstrap>:1030\u001b[0m, in \u001b[0;36m_gcd_import\u001b[1;34m(name, package, level)\u001b[0m\n",
      "File \u001b[1;32m<frozen importlib._bootstrap>:1007\u001b[0m, in \u001b[0;36m_find_and_load\u001b[1;34m(name, import_)\u001b[0m\n",
      "File \u001b[1;32m<frozen importlib._bootstrap>:986\u001b[0m, in \u001b[0;36m_find_and_load_unlocked\u001b[1;34m(name, import_)\u001b[0m\n",
      "File \u001b[1;32m<frozen importlib._bootstrap>:680\u001b[0m, in \u001b[0;36m_load_unlocked\u001b[1;34m(spec)\u001b[0m\n",
      "File \u001b[1;32m<frozen importlib._bootstrap_external>:850\u001b[0m, in \u001b[0;36mexec_module\u001b[1;34m(self, module)\u001b[0m\n",
      "File \u001b[1;32m<frozen importlib._bootstrap>:228\u001b[0m, in \u001b[0;36m_call_with_frames_removed\u001b[1;34m(f, *args, **kwds)\u001b[0m\n",
      "File \u001b[1;32mf:\\project\\rppg_video_compression\\data_generator\\GREEN.py:1\u001b[0m\n\u001b[1;32m----> 1\u001b[0m \u001b[39mfrom\u001b[39;00m \u001b[39mdata_generator\u001b[39;00m \u001b[39mimport\u001b[39;00m Base \n\u001b[0;32m      2\u001b[0m \u001b[39mfrom\u001b[39;00m \u001b[39mutil\u001b[39;00m\u001b[39m.\u001b[39;00m\u001b[39mface_detection\u001b[39;00m \u001b[39mimport\u001b[39;00m get_face_shape\n\u001b[0;32m      3\u001b[0m \u001b[39mclass\u001b[39;00m \u001b[39mDataGenerator\u001b[39;00m(Base):\n",
      "File \u001b[1;32mf:\\project\\rppg_video_compression\\data_generator\\Base.py:5\u001b[0m\n\u001b[0;32m      3\u001b[0m \u001b[39mfrom\u001b[39;00m \u001b[39msingleton_pattern\u001b[39;00m \u001b[39mimport\u001b[39;00m load_config\n\u001b[0;32m      4\u001b[0m \u001b[39mfrom\u001b[39;00m \u001b[39mutil\u001b[39;00m\u001b[39m.\u001b[39;00m\u001b[39mppg_interpolat\u001b[39;00m \u001b[39mimport\u001b[39;00m generate_interpolated_ppg\n\u001b[1;32m----> 5\u001b[0m \u001b[39mfrom\u001b[39;00m \u001b[39mutil\u001b[39;00m\u001b[39m.\u001b[39;00m\u001b[39mface_detection\u001b[39;00m \u001b[39mimport\u001b[39;00m read_video_and_generate_factor,get_face_shape\n\u001b[0;32m      6\u001b[0m \u001b[39mclass\u001b[39;00m \u001b[39mDataGenerator\u001b[39;00m:\n\u001b[0;32m      7\u001b[0m     batch_size:\u001b[39mint\u001b[39m\n",
      "File \u001b[1;32mf:\\project\\rppg_video_compression\\util\\face_detection.py:5\u001b[0m\n\u001b[0;32m      3\u001b[0m \u001b[39mimport\u001b[39;00m \u001b[39mnumpy\u001b[39;00m \u001b[39mas\u001b[39;00m \u001b[39mnp\u001b[39;00m\n\u001b[0;32m      4\u001b[0m detector \u001b[39m=\u001b[39m dlib\u001b[39m.\u001b[39mget_frontal_face_detector()\n\u001b[1;32m----> 5\u001b[0m predictor \u001b[39m=\u001b[39m dlib\u001b[39m.\u001b[39;49mshape_predictor(\u001b[39m'\u001b[39;49m\u001b[39m./res/shape_predictor_68_face_landmarks.dat\u001b[39;49m\u001b[39m'\u001b[39;49m)\n\u001b[0;32m      7\u001b[0m \u001b[39mdef\u001b[39;00m \u001b[39mget_face_shape\u001b[39m(frame):\n\u001b[0;32m      8\u001b[0m     gray \u001b[39m=\u001b[39m cv2\u001b[39m.\u001b[39mcvtColor(frame, cv2\u001b[39m.\u001b[39mCOLOR_BGR2GRAY)\n",
      "\u001b[1;31mRuntimeError\u001b[0m: Unable to open ./res/shape_predictor_68_face_landmarks.dat"
     ]
    }
   ],
   "source": [
    "import util.torch_info\n",
    "from singleton_pattern import load_dataset_loader,load_model,load_config,load_data_generator\n",
    "\n",
    "non_dnn_method_list = load_config.get_non_dnn_method_list()\n",
    "config = load_config.get_config()\n",
    "\n",
    "model = load_model.get_model()\n",
    "tensor_data_generator = load_data_generator.get_tensor_data_generator()\n",
    "print(f'Method and Preprocessing Name: {config[\"method\"]}')\n",
    "print(f'Model:\\n------------------\\n{model}\\n------------------')\n",
    "test_loader = load_dataset_loader.get_test_loader()\n",
    "print(f'Test Loader: {test_loader.loader_name}')"
   ]
  },
  {
   "cell_type": "code",
   "execution_count": 2,
   "metadata": {},
   "outputs": [
    {
     "name": "stdout",
     "output_type": "stream",
     "text": [
      "non train\n"
     ]
    }
   ],
   "source": [
    "import datetime\n",
    "def train():\n",
    "    if config['method'] in non_dnn_method_list: \n",
    "        print('non train')\n",
    "        return\n",
    "    start_time = datetime.datetime.now()\n",
    "    train_loader = load_dataset_loader.get_train_loader()\n",
    "    print(f'train_loader: {train_loader.loader_name}')\n",
    "    model.train(train_loader.load_data())\n",
    "    runtime = datetime.datetime.now() - start_time\n",
    "    hours, remainder = divmod(runtime.total_seconds(), 3600)\n",
    "    minutes, seconds = divmod(remainder, 60)\n",
    "    print(f\"train total time:  {int(hours)}h:{int(minutes)}m:{int(seconds)}s\")\n",
    "# run train\n",
    "train()"
   ]
  },
  {
   "cell_type": "code",
   "execution_count": 3,
   "metadata": {},
   "outputs": [
    {
     "name": "stdout",
     "output_type": "stream",
     "text": [
      "Start Reading UBFC_Phys Dataset Directory...\n",
      "Root Path:D:\\BaiduNetdiskDownload\\UBFC-PHYs_1-12\n"
     ]
    },
    {
     "name": "stderr",
     "output_type": "stream",
     "text": [
      "Progress: 100%|████████████████████████████████████████████████████| 12/12 [00:00<00:00, 631.60it/s]\n"
     ]
    }
   ],
   "source": [
    "# test\n",
    "model.eval()\n",
    "\n",
    "data = test_loader.load_data()\n",
    "X,y = tensor_data_generator.generate_tensor_data(data)\n",
    "# print(f'Test Video Size: {data[0].shape}')\n",
    "\n",
    "# X,y = model.preprocessing(test_df)\n",
    "# pred_y = model.forward(X)\n",
    "\n",
    "# 评价指标\n"
   ]
  }
 ],
 "metadata": {
  "kernelspec": {
   "display_name": "compress",
   "language": "python",
   "name": "python3"
  },
  "language_info": {
   "codemirror_mode": {
    "name": "ipython",
    "version": 3
   },
   "file_extension": ".py",
   "mimetype": "text/x-python",
   "name": "python",
   "nbconvert_exporter": "python",
   "pygments_lexer": "ipython3",
   "version": "3.9.18"
  },
  "orig_nbformat": 4
 },
 "nbformat": 4,
 "nbformat_minor": 2
}
