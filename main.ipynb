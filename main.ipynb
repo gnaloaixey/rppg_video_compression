{
 "cells": [
  {
   "cell_type": "code",
   "execution_count": 1,
   "metadata": {},
   "outputs": [
    {
     "name": "stderr",
     "output_type": "stream",
     "text": [
      "c:\\Users\\Bob2006\\.conda\\envs\\compress\\lib\\site-packages\\tqdm\\auto.py:21: TqdmWarning: IProgress not found. Please update jupyter and ipywidgets. See https://ipywidgets.readthedocs.io/en/stable/user_install.html\n",
      "  from .autonotebook import tqdm as notebook_tqdm\n"
     ]
    },
    {
     "name": "stdout",
     "output_type": "stream",
     "text": [
      "Method and Preprocessing Name: GREEN\n",
      "Model:\n",
      "------------------\n",
      "GREEN()\n",
      "------------------\n",
      "Test Loader: UBFC_Phys\n"
     ]
    }
   ],
   "source": [
    "from singleton_pattern import load_dataset_loader,load_model,load_config,load_data_generator\n",
    "non_dnn_method_list = load_config.get_non_dnn_method_list()\n",
    "config = load_config.get_config()\n",
    "\n",
    "model = load_model.get_model()\n",
    "tensor_data_generator = load_data_generator.get_tensor_data_generator()\n",
    "print(f'Method and Preprocessing Name: {config[\"method\"]}')\n",
    "print(f'Model:\\n------------------\\n{model}\\n------------------')\n",
    "test_loader = load_dataset_loader.get_test_loader()\n",
    "print(f'Test Loader: {test_loader.loader_name}')"
   ]
  },
  {
   "cell_type": "code",
   "execution_count": 2,
   "metadata": {},
   "outputs": [
    {
     "name": "stdout",
     "output_type": "stream",
     "text": [
      "non train\n"
     ]
    }
   ],
   "source": [
    "import datetime\n",
    "def train():\n",
    "    if config['method'] in non_dnn_method_list: \n",
    "        print('non train')\n",
    "        return\n",
    "    start_time = datetime.datetime.now()\n",
    "    train_loader = load_dataset_loader.get_train_loader()\n",
    "    print(f'train_loader: {train_loader.loader_name}')\n",
    "    model.train(train_loader.load_data())\n",
    "    runtime = datetime.datetime.now() - start_time\n",
    "    hours, remainder = divmod(runtime.total_seconds(), 3600)\n",
    "    minutes, seconds = divmod(remainder, 60)\n",
    "    print(f\"train total time:  {int(hours)}h:{int(minutes)}m:{int(seconds)}s\")\n",
    "# run train\n",
    "train()"
   ]
  },
  {
   "cell_type": "code",
   "execution_count": 3,
   "metadata": {},
   "outputs": [
    {
     "name": "stdout",
     "output_type": "stream",
     "text": [
      "Start Reading UBFC_Phys Dataset Directory...\n",
      "Root Path:D:\\BaiduNetdiskDownload\\UBFC-PHYs_1-12\n"
     ]
    },
    {
     "name": "stderr",
     "output_type": "stream",
     "text": [
      "Progress: 100%|████████████████████████████████████████████████████| 12/12 [00:00<00:00, 631.60it/s]\n"
     ]
    }
   ],
   "source": [
    "# test\n",
    "model.eval()\n",
    "\n",
    "data = test_loader.load_data()\n",
    "X,y = tensor_data_generator.generate_tensor_data(data)\n",
    "# print(f'Test Video Size: {data[0].shape}')\n",
    "\n",
    "# X,y = model.preprocessing(test_df)\n",
    "# pred_y = model.forward(X)\n",
    "\n",
    "# 评价指标\n"
   ]
  }
 ],
 "metadata": {
  "kernelspec": {
   "display_name": "compress",
   "language": "python",
   "name": "python3"
  },
  "language_info": {
   "codemirror_mode": {
    "name": "ipython",
    "version": 3
   },
   "file_extension": ".py",
   "mimetype": "text/x-python",
   "name": "python",
   "nbconvert_exporter": "python",
   "pygments_lexer": "ipython3",
   "version": "3.9.18"
  },
  "orig_nbformat": 4
 },
 "nbformat": 4,
 "nbformat_minor": 2
}
