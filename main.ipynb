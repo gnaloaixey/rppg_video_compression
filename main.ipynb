{
 "cells": [
  {
   "cell_type": "code",
   "execution_count": 1,
   "metadata": {},
   "outputs": [],
   "source": [
    "# config\n",
    "# config_name = 'config.yaml'\n",
    "# config_name = 'LSTCrPPG.yaml'\n",
    "config_name = 'PhysNet.yaml'\n",
    "force_clear_train_cache = False\n",
    "force_clear_test_cache = False\n",
    "num_epochs = 50"
   ]
  },
  {
   "cell_type": "code",
   "execution_count": 2,
   "metadata": {},
   "outputs": [
    {
     "name": "stdout",
     "output_type": "stream",
     "text": [
      "CUDA:\n",
      "---------------------------\n",
      "PyTorch supports GPU and currently has 1 CUDA devices available.\n",
      "The current default CUDA device is: NVIDIA GeForce RTX 3090\n",
      "---------------------------\n",
      "config_hash:9633c710ba3cbd14212e0d7fe4ad9bc1e82ec7aa30de71055fb3f8cad6063c35\n",
      "Method and Preprocessing Name: PhysNet\n"
     ]
    }
   ],
   "source": [
    "from singleton_pattern import load_model,load_config\n",
    "from singleton_pattern.load_dataset_reader import get_train_reader,get_test_reader\n",
    "from singleton_pattern.load_data_generator import get_train_data_generator,get_test_data_generator\n",
    "from util.cache import Cache\n",
    "load_config.init_config(config_name)\n",
    "\n",
    "from util.torch_info import print_info\n",
    "print_info()\n",
    "non_dnn_method_list = load_config.get_non_dnn_method_list()\n",
    "\n",
    "config_hash = load_config.get_config_hash()\n",
    "print(f'config_hash:{config_hash}')\n",
    "\n",
    "config = load_config.get_config()\n",
    "model = load_model.get_model()\n",
    "\n",
    "print(f'Method and Preprocessing Name: {config[\"method\"]}')\n",
    "# print(f'Model:\\n------------------\\n{model}\\n------------------')"
   ]
  },
  {
   "cell_type": "code",
   "execution_count": 3,
   "metadata": {},
   "outputs": [
    {
     "name": "stdout",
     "output_type": "stream",
     "text": [
      "train_reader: UBFC_Phys\n",
      "Root Path:D:\\BaiduNetdiskDownload\\UBFC-PHYs_1-12\n",
      "Start Reading UBFC_Phys Dataset Directory...\n"
     ]
    },
    {
     "data": {
      "application/vnd.jupyter.widget-view+json": {
       "model_id": "62d020f9fbd64d1090ba6699a01b2521",
       "version_major": 2,
       "version_minor": 0
      },
      "text/plain": [
       "Progress:   0%|          | 0/12 [00:00<?, ?it/s]"
      ]
     },
     "metadata": {},
     "output_type": "display_data"
    },
    {
     "name": "stdout",
     "output_type": "stream",
     "text": [
      "cache\\9633c710ba3cbd14212e0d7fe4ad9bc1e82ec7aa30de71055fb3f8cad6063c35\\train\n",
      "dataset size: 1056\n",
      "start training...\n",
      "cache\\9633c710ba3cbd14212e0d7fe4ad9bc1e82ec7aa30de71055fb3f8cad6063c35\\model\n"
     ]
    },
    {
     "data": {
      "application/vnd.jupyter.widget-view+json": {
       "model_id": "b58b73a2a1c64583a4e35cfb06b5b0e2",
       "version_major": 2,
       "version_minor": 0
      },
      "text/plain": [
       "Progress:   0%|          | 0/50 [00:00<?, ?it/s]"
      ]
     },
     "metadata": {},
     "output_type": "display_data"
    },
    {
     "name": "stdout",
     "output_type": "stream",
     "text": [
      "Epoch [1/50], Loss: 0.9909\n",
      "Epoch [2/50], Loss: 1.0796\n",
      "Epoch [3/50], Loss: 1.1112\n",
      "Epoch [4/50], Loss: 1.1855\n",
      "Epoch [5/50], Loss: 1.2425\n",
      "Epoch [6/50], Loss: 1.2167\n",
      "Epoch [7/50], Loss: 1.2364\n",
      "Epoch [8/50], Loss: 1.1755\n",
      "Epoch [9/50], Loss: 1.4484\n",
      "Epoch [10/50], Loss: 1.1047\n",
      "Epoch [11/50], Loss: 1.0970\n",
      "Epoch [12/50], Loss: 1.1253\n",
      "Epoch [13/50], Loss: 1.0675\n",
      "Epoch [14/50], Loss: 0.3335\n",
      "Epoch [15/50], Loss: 1.1303\n",
      "Epoch [16/50], Loss: 0.4725\n",
      "Epoch [17/50], Loss: 0.8780\n",
      "Epoch [18/50], Loss: 1.3922\n",
      "Epoch [19/50], Loss: 0.6219\n",
      "Epoch [20/50], Loss: 0.7939\n",
      "Epoch [21/50], Loss: 1.0066\n",
      "Epoch [22/50], Loss: 1.0259\n",
      "Epoch [23/50], Loss: 1.0006\n",
      "Epoch [24/50], Loss: 1.0107\n",
      "Epoch [25/50], Loss: 0.5659\n",
      "Epoch [26/50], Loss: 1.6542\n",
      "Epoch [27/50], Loss: 0.6557\n",
      "Epoch [28/50], Loss: 0.3646\n",
      "Epoch [29/50], Loss: 0.5341\n",
      "Epoch [30/50], Loss: 0.5509\n",
      "Epoch [31/50], Loss: 0.5335\n",
      "Epoch [32/50], Loss: 0.6593\n",
      "Epoch [33/50], Loss: 0.8868\n",
      "Epoch [34/50], Loss: 0.8303\n",
      "Epoch [35/50], Loss: 0.5402\n",
      "Epoch [36/50], Loss: 0.7083\n",
      "Epoch [37/50], Loss: 0.8347\n",
      "Epoch [38/50], Loss: 0.6345\n",
      "Epoch [39/50], Loss: 0.3884\n",
      "Epoch [40/50], Loss: 0.4851\n",
      "Epoch [41/50], Loss: 0.6946\n",
      "Epoch [42/50], Loss: 0.8621\n",
      "Epoch [43/50], Loss: 1.2172\n",
      "Epoch [44/50], Loss: 1.1492\n",
      "Epoch [45/50], Loss: 0.5881\n",
      "Epoch [46/50], Loss: 1.0096\n",
      "Epoch [47/50], Loss: 0.9259\n",
      "Epoch [48/50], Loss: 0.9425\n",
      "Epoch [49/50], Loss: 0.8073\n",
      "Epoch [50/50], Loss: 0.3758\n",
      "train end.\n",
      "train total time:  9h:49m:21s\n"
     ]
    }
   ],
   "source": [
    "import datetime\n",
    "dataloader = None\n",
    "def load_train_loader():\n",
    "    global dataloader\n",
    "    if dataloader != None:\n",
    "        return dataloader\n",
    "    train_reader = get_train_reader()\n",
    "    print(f'train_reader: {train_reader.loader_name}')\n",
    "    data = train_reader.load_data()\n",
    "    tensor_data_generator = get_train_data_generator()\n",
    "    dataloader = tensor_data_generator.get_tensor_dataloader(data,force_clear_cache=force_clear_train_cache)\n",
    "    return dataloader\n",
    "def train():\n",
    "    if config['method'] in non_dnn_method_list: \n",
    "        print('non train')\n",
    "        return\n",
    "    dataloader = load_train_loader()\n",
    "    start_time = datetime.datetime.now()\n",
    "    model.train_model(dataloader,num_epochs)\n",
    "    runtime = datetime.datetime.now() - start_time\n",
    "    hours, remainder = divmod(runtime.total_seconds(), 3600)\n",
    "    minutes, seconds = divmod(remainder, 60)\n",
    "    print(f\"train total time:  {int(hours)}h:{int(minutes)}m:{int(seconds)}s\")\n",
    "# run train\n",
    "train()"
   ]
  },
  {
   "cell_type": "code",
   "execution_count": 14,
   "metadata": {},
   "outputs": [
    {
     "name": "stdout",
     "output_type": "stream",
     "text": [
      "Test Loader: UBFC_Phys\n",
      "Root Path:D:\\BaiduNetdiskDownload\\UBFC-PHYs_1-12\n",
      "Start Reading UBFC_Phys Dataset Directory...\n"
     ]
    },
    {
     "data": {
      "application/vnd.jupyter.widget-view+json": {
       "model_id": "2fad0d4dca90438a8d3e9e9e73926add",
       "version_major": 2,
       "version_minor": 0
      },
      "text/plain": [
       "Progress:   0%|          | 0/12 [00:00<?, ?it/s]"
      ]
     },
     "metadata": {},
     "output_type": "display_data"
    },
    {
     "name": "stdout",
     "output_type": "stream",
     "text": [
      "cache\\9633c710ba3cbd14212e0d7fe4ad9bc1e82ec7aa30de71055fb3f8cad6063c35\\test\n",
      "dataset size: 1056\n"
     ]
    },
    {
     "data": {
      "image/png": "[encoded data removed]",
      "text/plain": [
       "<Figure size 640x480 with 1 Axes>"
      ]
     },
     "metadata": {},
     "output_type": "display_data"
    }
   ],
   "source": [
    "import matplotlib.pyplot as plt\n",
    "import numpy as np\n",
    "test_reader = get_test_reader()\n",
    "tensor_data_generator = get_test_data_generator()\n",
    "print(f'Test Loader: {test_reader.loader_name}')\n",
    "data = test_reader.load_data()\n",
    "test_dataloader = tensor_data_generator.get_tensor_dataloader(data,force_clear_cache=force_clear_test_cache)\n",
    "# test\n",
    "if 'model' not in dir():\n",
    "    cache = Cache('model')\n",
    "    model = cache.read_model()\n",
    "model.eval()\n",
    "i = 0\n",
    "for batch_X, batch_y in test_dataloader:\n",
    "    index_n = 3\n",
    "    if i == index_n:\n",
    "        plt.title(\"Two Curves\")\n",
    "        plt.xlabel(\"T\")\n",
    "        plt.ylabel(\"BVP\")\n",
    "        pred = model(batch_X)\n",
    "        true_data = np.array(batch_y.view(-1).numpy())\n",
    "        pred_data = np.array(pred.detach().view(-1).numpy())\n",
    "        true_data = true_data = (true_data - true_data.mean())/true_data.std()\n",
    "        pred_data = pred_data = (pred_data - pred_data.mean())/pred_data.std()\n",
    "        plt.plot(true_data, label=\"True Line\")\n",
    "        plt.plot(pred_data, label=\"Pred Line\")\n",
    "        plt.legend()\n",
    "        plt.show()\n",
    "    if i > index_n:\n",
    "        break\n",
    "    i+=1\n",
    "\n",
    "# 评价指标\n"
   ]
  },
  {
   "cell_type": "code",
   "execution_count": null,
   "metadata": {},
   "outputs": [],
   "source": [
    "from method.LSTCrPPG import LSTCrPPG\n",
    "from method.PhysNet import PhysNet\n",
    "import torch\n",
    "input_data = torch.randn(3, 3, 160, 128, 128)\n",
    "model = PhysNet()\n",
    "model.eval()\n",
    "model(input_data)\n"
   ]
  },
  {
   "cell_type": "code",
   "execution_count": 15,
   "metadata": {},
   "outputs": [
    {
     "data": {
      "text/plain": [
       "tensor([[0.6241, 0.5603, 0.4978, 0.4363, 0.3698, 0.2879, 0.1945, 0.1267, 0.1323,\n",
       "         0.2339, 0.4116, 0.6184, 0.8052, 0.9385, 1.0000, 0.9924, 0.9416, 0.8841,\n",
       "         0.8458, 0.8275, 0.8166, 0.8008, 0.7749, 0.7377, 0.6891, 0.6298, 0.5637,\n",
       "         0.4960, 0.4294, 0.3616, 0.2862, 0.1963, 0.0955, 0.0119, 0.0000, 0.0933,\n",
       "         0.2756, 0.4962, 0.7021, 0.8579, 0.9447, 0.9653, 0.9388, 0.8970, 0.8664,\n",
       "         0.8555, 0.8535, 0.8473, 0.8303, 0.8001, 0.7536, 0.6884, 0.6134, 0.5422,\n",
       "         0.4807, 0.4199, 0.3437, 0.2435, 0.1329, 0.0503, 0.0473, 0.1535, 0.3487,\n",
       "         0.5675, 0.7594, 0.8968, 0.9656, 0.9641, 0.9177, 0.8703, 0.8471, 0.8428,\n",
       "         0.8374, 0.8210, 0.7994, 0.7702, 0.7214, 0.6488, 0.5661, 0.4935, 0.4336,\n",
       "         0.3705, 0.2859, 0.1774, 0.0759, 0.0405, 0.1096, 0.2735, 0.4837, 0.6858]])"
      ]
     },
     "execution_count": 15,
     "metadata": {},
     "output_type": "execute_result"
    }
   ],
   "source": [
    "batch_y"
   ]
  }
 ],
 "metadata": {
  "kernelspec": {
   "display_name": "compress",
   "language": "python",
   "name": "python3"
  },
  "language_info": {
   "codemirror_mode": {
    "name": "ipython",
    "version": 3
   },
   "file_extension": ".py",
   "mimetype": "text/x-python",
   "name": "python",
   "nbconvert_exporter": "python",
   "pygments_lexer": "ipython3",
   "version": "3.9.18"
  },
  "orig_nbformat": 4
 },
 "nbformat": 4,
 "nbformat_minor": 2
}
