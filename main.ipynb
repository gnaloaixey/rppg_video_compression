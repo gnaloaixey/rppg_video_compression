{
 "cells": [
  {
   "cell_type": "code",
   "execution_count": 4,
   "metadata": {},
   "outputs": [
    {
     "name": "stdout",
     "output_type": "stream",
     "text": [
      "CUDA:\n",
      "---------------------------\n",
      "PyTorch supports GPU and currently has 1 CUDA devices available.\n",
      "The current default CUDA device is: NVIDIA GeForce RTX 3090\n",
      "---------------------------\n",
      "Method and DataGenerator Name: PhysNet\n"
     ]
    }
   ],
   "source": [
    "# config\n",
    "import common.init as init\n",
    "from singleton_pattern.load_model import get_model\n",
    "from  singleton_pattern.load_config import get_config,get_non_dnn_method_list\n",
    "from singleton_pattern.load_dataset_reader import get_train_reader,get_test_reader\n",
    "from singleton_pattern.load_data_generator import get_train_data_generator,get_test_data_generator\n",
    "from common.cache import Cache\n",
    "from common.cuda_info import get_device\n",
    "config_name = 'PhysNet.yaml'\n",
    "# config_name = 'POS.yaml'\n",
    "# init\n",
    "init.run(config_name)"
   ]
  },
  {
   "cell_type": "code",
   "execution_count": 5,
   "metadata": {},
   "outputs": [
    {
     "name": "stdout",
     "output_type": "stream",
     "text": [
      "train_reader: UBFC_Phys\n",
      "Root Path:D:\\dataset\\compression\\UBFC-PHYs_2_11\n",
      "Start Reading UBFC_Phys Dataset Directory...\n"
     ]
    },
    {
     "data": {
      "application/vnd.jupyter.widget-view+json": {
       "model_id": "c144abdabaab4fc8a11ccb77a92b912b",
       "version_major": 2,
       "version_minor": 0
      },
      "text/plain": [
       "Progress:   0%|          | 0/10 [00:00<?, ?it/s]"
      ]
     },
     "metadata": {},
     "output_type": "display_data"
    },
    {
     "name": "stdout",
     "output_type": "stream",
     "text": [
      "cache path:cache\\TRAIN\\c5399b09bc23bf6832f592aa3c5d21ec89be0bd2ebcde78d0e7dce7d64fa20d8\n",
      "Start Generator Data...\n",
      "cv2: CUDA is not available.\n"
     ]
    },
    {
     "data": {
      "application/vnd.jupyter.widget-view+json": {
       "model_id": "f10a27214a2b47228dd956894e2a958c",
       "version_major": 2,
       "version_minor": 0
      },
      "text/plain": [
       "Progress:   0%|          | 0/10 [00:00<?, ?it/s]"
      ]
     },
     "metadata": {},
     "output_type": "display_data"
    },
    {
     "data": {
      "application/vnd.jupyter.widget-view+json": {
       "model_id": "88cc9211f0684645a77d74ffad87ba9f",
       "version_major": 2,
       "version_minor": 0
      },
      "text/plain": [
       "Processing videos 1 :   0%|          | 0/6326 [00:00<?, ?it/s]"
      ]
     },
     "metadata": {},
     "output_type": "display_data"
    },
    {
     "data": {
      "application/vnd.jupyter.widget-view+json": {
       "model_id": "12b2536228a941a48efe4858a876132c",
       "version_major": 2,
       "version_minor": 0
      },
      "text/plain": [
       "Processing videos 2 :   0%|          | 0/6325 [00:00<?, ?it/s]"
      ]
     },
     "metadata": {},
     "output_type": "display_data"
    },
    {
     "data": {
      "application/vnd.jupyter.widget-view+json": {
       "model_id": "f22357044a0d4091a218f58145431d9b",
       "version_major": 2,
       "version_minor": 0
      },
      "text/plain": [
       "Processing videos 3 :   0%|          | 0/6326 [00:00<?, ?it/s]"
      ]
     },
     "metadata": {},
     "output_type": "display_data"
    },
    {
     "data": {
      "application/vnd.jupyter.widget-view+json": {
       "model_id": "60893261d599459ca59cd825d1049d3a",
       "version_major": 2,
       "version_minor": 0
      },
      "text/plain": [
       "Processing videos 4 :   0%|          | 0/6326 [00:00<?, ?it/s]"
      ]
     },
     "metadata": {},
     "output_type": "display_data"
    },
    {
     "data": {
      "application/vnd.jupyter.widget-view+json": {
       "model_id": "01a4b9e52ffc4eb787d97f57e2a5fab0",
       "version_major": 2,
       "version_minor": 0
      },
      "text/plain": [
       "Processing videos 5 :   0%|          | 0/6326 [00:00<?, ?it/s]"
      ]
     },
     "metadata": {},
     "output_type": "display_data"
    },
    {
     "data": {
      "application/vnd.jupyter.widget-view+json": {
       "model_id": "4986932c603042f19e36363187cea05d",
       "version_major": 2,
       "version_minor": 0
      },
      "text/plain": [
       "Processing videos 6 :   0%|          | 0/6326 [00:00<?, ?it/s]"
      ]
     },
     "metadata": {},
     "output_type": "display_data"
    }
   ],
   "source": [
    "config = get_config()\n",
    "non_dnn_method_list = get_non_dnn_method_list()\n",
    "model = get_model()\n",
    "is_need_train = config['method'] not in non_dnn_method_list\n",
    "train_dataloader = None\n",
    "# load train dataset\n",
    "if is_need_train:\n",
    "    train_reader = get_train_reader()\n",
    "    print(f'train_reader: {train_reader.loader_name}')\n",
    "    train_data = train_reader.load_data()\n",
    "    train_data_generator = get_train_data_generator()\n",
    "    train_dataloader = train_data_generator.get_tensor_dataloader(train_data)\n",
    "# load test dataset\n",
    "test_reader = get_test_reader()\n",
    "test_data_generator = get_test_data_generator()\n",
    "print(f'Test Loader: {test_reader.loader_name}')\n",
    "test_data = test_reader.load_data()\n",
    "test_dataloader = test_data_generator.get_tensor_dataloader(test_data)"
   ]
  },
  {
   "cell_type": "code",
   "execution_count": null,
   "metadata": {},
   "outputs": [
    {
     "name": "stdout",
     "output_type": "stream",
     "text": [
      "optimizer:Adamax (\n",
      "Parameter Group 0\n",
      "    betas: (0.9, 0.999)\n",
      "    eps: 1e-08\n",
      "    foreach: None\n",
      "    lr: 1e-06\n",
      "    maximize: False\n",
      "    weight_decay: 0\n",
      ")\n",
      "criterion:PhyNetLoss(\n",
      "  (neg_pearson_Loss): NegPearsonLoss(\n",
      "    (pearson): PearsonLoss()\n",
      "  )\n",
      ")\n"
     ]
    },
    {
     "data": {
      "application/vnd.jupyter.widget-view+json": {
       "model_id": "59c1455f03f448b5a8c6f6bd9bbdc4ac",
       "version_major": 2,
       "version_minor": 0
      },
      "text/plain": [
       "Progress:   0%|          | 0/200 [00:00<?, ?it/s]"
      ]
     },
     "metadata": {},
     "output_type": "display_data"
    },
    {
     "name": "stdout",
     "output_type": "stream",
     "text": [
      "cache path:cache\\MODEL\\\n",
      "Epoch [1/200],Train Loss: 1.0011,Test Loss: 0.9967\n",
      "Epoch [2/200],Train Loss: 0.9988,Test Loss: 0.9961\n",
      "Epoch [3/200],Train Loss: 0.9967,Test Loss: 0.9955\n",
      "Epoch [4/200],Train Loss: 0.9946,Test Loss: 0.9949\n",
      "Epoch [5/200],Train Loss: 0.9924,Test Loss: 0.9942\n",
      "Epoch [6/200],Train Loss: 0.9902,Test Loss: 0.9933\n",
      "Epoch [7/200],Train Loss: 0.9878,Test Loss: 0.9924\n",
      "Epoch [8/200],Train Loss: 0.9852,Test Loss: 0.9913\n",
      "Epoch [9/200],Train Loss: 0.9823,Test Loss: 0.9901\n",
      "Epoch [10/200],Train Loss: 0.9790,Test Loss: 0.9888\n",
      "Epoch [11/200],Train Loss: 0.9751,Test Loss: 0.9872\n",
      "Epoch [12/200],Train Loss: 0.9704,Test Loss: 0.9855\n",
      "Epoch [13/200],Train Loss: 0.9643,Test Loss: 0.9834\n",
      "Epoch [14/200],Train Loss: 0.9553,Test Loss: 0.9807\n",
      "Epoch [15/200],Train Loss: 0.9389,Test Loss: 0.9770\n",
      "Epoch [16/200],Train Loss: 0.8954,Test Loss: 0.9772\n",
      "Epoch [17/200],Train Loss: 0.8319,Test Loss: 0.9840\n",
      "Epoch [18/200],Train Loss: 0.7975,Test Loss: 0.9867\n",
      "Epoch [19/200],Train Loss: 0.7720,Test Loss: 0.9885\n",
      "Epoch [20/200],Train Loss: 0.7497,Test Loss: 0.9896\n",
      "Epoch [21/200],Train Loss: 0.7294,Test Loss: 0.9904\n",
      "Epoch [22/200],Train Loss: 0.7107,Test Loss: 0.9910\n",
      "Epoch [23/200],Train Loss: 0.6937,Test Loss: 0.9913\n",
      "Epoch [24/200],Train Loss: 0.6781,Test Loss: 0.9916\n",
      "Epoch [25/200],Train Loss: 0.6636,Test Loss: 0.9917\n",
      "Epoch [26/200],Train Loss: 0.6500,Test Loss: 0.9916\n",
      "Epoch [27/200],Train Loss: 0.6372,Test Loss: 0.9916\n",
      "Epoch [28/200],Train Loss: 0.6250,Test Loss: 0.9916\n",
      "Epoch [29/200],Train Loss: 0.6133,Test Loss: 0.9916\n",
      "Epoch [30/200],Train Loss: 0.6020,Test Loss: 0.9914\n",
      "Epoch [31/200],Train Loss: 0.5910,Test Loss: 0.9912\n",
      "Epoch [32/200],Train Loss: 0.5804,Test Loss: 0.9911\n",
      "Epoch [33/200],Train Loss: 0.5701,Test Loss: 0.9909\n",
      "Epoch [34/200],Train Loss: 0.5600,Test Loss: 0.9909\n",
      "Epoch [35/200],Train Loss: 0.5502,Test Loss: 0.9908\n",
      "Epoch [36/200],Train Loss: 0.5405,Test Loss: 0.9908\n",
      "Epoch [37/200],Train Loss: 0.5311,Test Loss: 0.9905\n",
      "Epoch [38/200],Train Loss: 0.5219,Test Loss: 0.9904\n",
      "Epoch [39/200],Train Loss: 0.5128,Test Loss: 0.9902\n",
      "Epoch [40/200],Train Loss: 0.5040,Test Loss: 0.9903\n",
      "Epoch [41/200],Train Loss: 0.4953,Test Loss: 0.9901\n",
      "Epoch [42/200],Train Loss: 0.4868,Test Loss: 0.9899\n",
      "Epoch [43/200],Train Loss: 0.4784,Test Loss: 0.9898\n",
      "Epoch [44/200],Train Loss: 0.4702,Test Loss: 0.9897\n",
      "Epoch [45/200],Train Loss: 0.4622,Test Loss: 0.9895\n",
      "Epoch [46/200],Train Loss: 0.4542,Test Loss: 0.9894\n",
      "Epoch [47/200],Train Loss: 0.4464,Test Loss: 0.9894\n",
      "Epoch [48/200],Train Loss: 0.4387,Test Loss: 0.9893\n",
      "Epoch [49/200],Train Loss: 0.4311,Test Loss: 0.9893\n",
      "Epoch [50/200],Train Loss: 0.4237,Test Loss: 0.9892\n",
      "Epoch [51/200],Train Loss: 0.4164,Test Loss: 0.9892\n",
      "Epoch [52/200],Train Loss: 0.4092,Test Loss: 0.9890\n",
      "Epoch [53/200],Train Loss: 0.4021,Test Loss: 0.9890\n",
      "Epoch [54/200],Train Loss: 0.3952,Test Loss: 0.9889\n",
      "Epoch [55/200],Train Loss: 0.3883,Test Loss: 0.9889\n",
      "Epoch [56/200],Train Loss: 0.3816,Test Loss: 0.9888\n",
      "Epoch [57/200],Train Loss: 0.3749,Test Loss: 0.9887\n",
      "Epoch [58/200],Train Loss: 0.3684,Test Loss: 0.9888\n",
      "Epoch [59/200],Train Loss: 0.3620,Test Loss: 0.9885\n",
      "Epoch [60/200],Train Loss: 0.3557,Test Loss: 0.9884\n",
      "Epoch [61/200],Train Loss: 0.3495,Test Loss: 0.9883\n",
      "Epoch [62/200],Train Loss: 0.3434,Test Loss: 0.9882\n",
      "Epoch [63/200],Train Loss: 0.3374,Test Loss: 0.9884\n",
      "Epoch [64/200],Train Loss: 0.3316,Test Loss: 0.9883\n",
      "Epoch [65/200],Train Loss: 0.3258,Test Loss: 0.9884\n",
      "Epoch [66/200],Train Loss: 0.3201,Test Loss: 0.9883\n",
      "Epoch [67/200],Train Loss: 0.3146,Test Loss: 0.9884\n",
      "Epoch [68/200],Train Loss: 0.3091,Test Loss: 0.9884\n",
      "Epoch [69/200],Train Loss: 0.3037,Test Loss: 0.9884\n",
      "Epoch [70/200],Train Loss: 0.2985,Test Loss: 0.9883\n",
      "Epoch [71/200],Train Loss: 0.2933,Test Loss: 0.9885\n",
      "Epoch [72/200],Train Loss: 0.2882,Test Loss: 0.9884\n",
      "Epoch [73/200],Train Loss: 0.2833,Test Loss: 0.9883\n",
      "Epoch [74/200],Train Loss: 0.2783,Test Loss: 0.9884\n",
      "Epoch [75/200],Train Loss: 0.2735,Test Loss: 0.9883\n",
      "Epoch [76/200],Train Loss: 0.2688,Test Loss: 0.9881\n",
      "Epoch [77/200],Train Loss: 0.2642,Test Loss: 0.9881\n",
      "Epoch [78/200],Train Loss: 0.2596,Test Loss: 0.9882\n",
      "Epoch [79/200],Train Loss: 0.2552,Test Loss: 0.9880\n",
      "Epoch [80/200],Train Loss: 0.2508,Test Loss: 0.9879\n",
      "Epoch [81/200],Train Loss: 0.2464,Test Loss: 0.9879\n",
      "Epoch [82/200],Train Loss: 0.2422,Test Loss: 0.9880\n",
      "Epoch [83/200],Train Loss: 0.2381,Test Loss: 0.9878\n",
      "Epoch [84/200],Train Loss: 0.2340,Test Loss: 0.9877\n",
      "Epoch [85/200],Train Loss: 0.2301,Test Loss: 0.9878\n",
      "Epoch [86/200],Train Loss: 0.2262,Test Loss: 0.9878\n",
      "Epoch [87/200],Train Loss: 0.2223,Test Loss: 0.9876\n",
      "Epoch [88/200],Train Loss: 0.2185,Test Loss: 0.9875\n",
      "Epoch [89/200],Train Loss: 0.2148,Test Loss: 0.9875\n",
      "Epoch [90/200],Train Loss: 0.2112,Test Loss: 0.9873\n",
      "Epoch [91/200],Train Loss: 0.2076,Test Loss: 0.9873\n",
      "Epoch [92/200],Train Loss: 0.2040,Test Loss: 0.9871\n",
      "Epoch [93/200],Train Loss: 0.2005,Test Loss: 0.9874\n",
      "Epoch [94/200],Train Loss: 0.1971,Test Loss: 0.9872\n",
      "Epoch [95/200],Train Loss: 0.1937,Test Loss: 0.9871\n",
      "Epoch [96/200],Train Loss: 0.1904,Test Loss: 0.9871\n",
      "Epoch [97/200],Train Loss: 0.1872,Test Loss: 0.9871\n",
      "Epoch [98/200],Train Loss: 0.1840,Test Loss: 0.9870\n",
      "Epoch [99/200],Train Loss: 0.1809,Test Loss: 0.9870\n",
      "Epoch [100/200],Train Loss: 0.1778,Test Loss: 0.9871\n",
      "Epoch [101/200],Train Loss: 0.1747,Test Loss: 0.9870\n",
      "Epoch [102/200],Train Loss: 0.1718,Test Loss: 0.9871\n",
      "Epoch [103/200],Train Loss: 0.1689,Test Loss: 0.9870\n",
      "Epoch [104/200],Train Loss: 0.1661,Test Loss: 0.9870\n",
      "Epoch [105/200],Train Loss: 0.1633,Test Loss: 0.9868\n",
      "Epoch [106/200],Train Loss: 0.1605,Test Loss: 0.9868\n",
      "Epoch [107/200],Train Loss: 0.1578,Test Loss: 0.9868\n",
      "Epoch [108/200],Train Loss: 0.1552,Test Loss: 0.9867\n",
      "Epoch [109/200],Train Loss: 0.1525,Test Loss: 0.9867\n",
      "Epoch [110/200],Train Loss: 0.1499,Test Loss: 0.9866\n",
      "Epoch [111/200],Train Loss: 0.1475,Test Loss: 0.9869\n",
      "Epoch [112/200],Train Loss: 0.1450,Test Loss: 0.9868\n",
      "Epoch [113/200],Train Loss: 0.1426,Test Loss: 0.9869\n",
      "Epoch [114/200],Train Loss: 0.1402,Test Loss: 0.9869\n",
      "Epoch [115/200],Train Loss: 0.1378,Test Loss: 0.9868\n",
      "Epoch [116/200],Train Loss: 0.1356,Test Loss: 0.9868\n",
      "Epoch [117/200],Train Loss: 0.1333,Test Loss: 0.9868\n",
      "Epoch [118/200],Train Loss: 0.1311,Test Loss: 0.9868\n",
      "Epoch [119/200],Train Loss: 0.1289,Test Loss: 0.9868\n",
      "Epoch [120/200],Train Loss: 0.1267,Test Loss: 0.9866\n",
      "Epoch [121/200],Train Loss: 0.1247,Test Loss: 0.9868\n",
      "Epoch [122/200],Train Loss: 0.1226,Test Loss: 0.9867\n",
      "Epoch [123/200],Train Loss: 0.1206,Test Loss: 0.9868\n",
      "Epoch [124/200],Train Loss: 0.1186,Test Loss: 0.9869\n",
      "Epoch [125/200],Train Loss: 0.1166,Test Loss: 0.9870\n",
      "Epoch [126/200],Train Loss: 0.1147,Test Loss: 0.9869\n",
      "Epoch [127/200],Train Loss: 0.1128,Test Loss: 0.9870\n",
      "Epoch [128/200],Train Loss: 0.1110,Test Loss: 0.9869\n",
      "Epoch [129/200],Train Loss: 0.1092,Test Loss: 0.9868\n",
      "Epoch [130/200],Train Loss: 0.1074,Test Loss: 0.9868\n",
      "Epoch [131/200],Train Loss: 0.1056,Test Loss: 0.9869\n",
      "Epoch [132/200],Train Loss: 0.1039,Test Loss: 0.9868\n",
      "Epoch [133/200],Train Loss: 0.1022,Test Loss: 0.9866\n",
      "Epoch [134/200],Train Loss: 0.1006,Test Loss: 0.9868\n",
      "Epoch [135/200],Train Loss: 0.0989,Test Loss: 0.9867\n",
      "Epoch [136/200],Train Loss: 0.0973,Test Loss: 0.9866\n",
      "Epoch [137/200],Train Loss: 0.0958,Test Loss: 0.9867\n",
      "Epoch [138/200],Train Loss: 0.0942,Test Loss: 0.9866\n",
      "Epoch [139/200],Train Loss: 0.0927,Test Loss: 0.9866\n",
      "Epoch [140/200],Train Loss: 0.0913,Test Loss: 0.9868\n",
      "Epoch [141/200],Train Loss: 0.0898,Test Loss: 0.9867\n",
      "Epoch [142/200],Train Loss: 0.0883,Test Loss: 0.9867\n",
      "Epoch [143/200],Train Loss: 0.0869,Test Loss: 0.9868\n",
      "Epoch [144/200],Train Loss: 0.0855,Test Loss: 0.9867\n",
      "Epoch [145/200],Train Loss: 0.0842,Test Loss: 0.9867\n",
      "Epoch [146/200],Train Loss: 0.0828,Test Loss: 0.9866\n",
      "Epoch [147/200],Train Loss: 0.0815,Test Loss: 0.9868\n",
      "Epoch [148/200],Train Loss: 0.0802,Test Loss: 0.9868\n",
      "Epoch [149/200],Train Loss: 0.0789,Test Loss: 0.9870\n",
      "Epoch [150/200],Train Loss: 0.0776,Test Loss: 0.9869\n",
      "Epoch [151/200],Train Loss: 0.0764,Test Loss: 0.9870\n",
      "Epoch [152/200],Train Loss: 0.0752,Test Loss: 0.9871\n",
      "Epoch [153/200],Train Loss: 0.0739,Test Loss: 0.9870\n",
      "Epoch [154/200],Train Loss: 0.0728,Test Loss: 0.9870\n",
      "Epoch [155/200],Train Loss: 0.0716,Test Loss: 0.9869\n",
      "Epoch [156/200],Train Loss: 0.0705,Test Loss: 0.9869\n",
      "Epoch [157/200],Train Loss: 0.0694,Test Loss: 0.9868\n",
      "Epoch [158/200],Train Loss: 0.0682,Test Loss: 0.9869\n",
      "Epoch [159/200],Train Loss: 0.0672,Test Loss: 0.9869\n",
      "Epoch [160/200],Train Loss: 0.0661,Test Loss: 0.9871\n",
      "Epoch [161/200],Train Loss: 0.0651,Test Loss: 0.9868\n",
      "Epoch [162/200],Train Loss: 0.0640,Test Loss: 0.9868\n",
      "Epoch [163/200],Train Loss: 0.0631,Test Loss: 0.9869\n",
      "Epoch [164/200],Train Loss: 0.0621,Test Loss: 0.9869\n",
      "Epoch [165/200],Train Loss: 0.0611,Test Loss: 0.9870\n",
      "Epoch [166/200],Train Loss: 0.0602,Test Loss: 0.9869\n",
      "Epoch [167/200],Train Loss: 0.0593,Test Loss: 0.9871\n",
      "Epoch [168/200],Train Loss: 0.0584,Test Loss: 0.9870\n",
      "Epoch [169/200],Train Loss: 0.0575,Test Loss: 0.9869\n",
      "Epoch [170/200],Train Loss: 0.0567,Test Loss: 0.9870\n",
      "Epoch [171/200],Train Loss: 0.0559,Test Loss: 0.9869\n",
      "Epoch [172/200],Train Loss: 0.0551,Test Loss: 0.9868\n",
      "Epoch [173/200],Train Loss: 0.0544,Test Loss: 0.9869\n",
      "Epoch [174/200],Train Loss: 0.0537,Test Loss: 0.9869\n",
      "Epoch [175/200],Train Loss: 0.0532,Test Loss: 0.9868\n",
      "Epoch [176/200],Train Loss: 0.0528,Test Loss: 0.9867\n",
      "Epoch [177/200],Train Loss: 0.0523,Test Loss: 0.9867\n",
      "Epoch [178/200],Train Loss: 0.0516,Test Loss: 0.9868\n",
      "Epoch [179/200],Train Loss: 0.0509,Test Loss: 0.9867\n",
      "Epoch [180/200],Train Loss: 0.0503,Test Loss: 0.9865\n",
      "Epoch [181/200],Train Loss: 0.0497,Test Loss: 0.9866\n",
      "Epoch [182/200],Train Loss: 0.0496,Test Loss: 0.9865\n",
      "Epoch [183/200],Train Loss: 0.0498,Test Loss: 0.9867\n",
      "Epoch [184/200],Train Loss: 0.0497,Test Loss: 0.9865\n",
      "Epoch [185/200],Train Loss: 0.0500,Test Loss: 0.9864\n",
      "Epoch [186/200],Train Loss: 0.0500,Test Loss: 0.9859\n",
      "Epoch [187/200],Train Loss: 0.0489,Test Loss: 0.9856\n",
      "Epoch [188/200],Train Loss: 0.0474,Test Loss: 0.9857\n",
      "Epoch [189/200],Train Loss: 0.0463,Test Loss: 0.9857\n",
      "Epoch [190/200],Train Loss: 0.0456,Test Loss: 0.9857\n",
      "Epoch [191/200],Train Loss: 0.0449,Test Loss: 0.9861\n",
      "Epoch [192/200],Train Loss: 0.0444,Test Loss: 0.9862\n",
      "Epoch [193/200],Train Loss: 0.0439,Test Loss: 0.9863\n",
      "Epoch [194/200],Train Loss: 0.0437,Test Loss: 0.9863\n",
      "Epoch [195/200],Train Loss: 0.0444,Test Loss: 0.9865\n",
      "Epoch [196/200],Train Loss: 0.0471,Test Loss: 0.9866\n",
      "Epoch [197/200],Train Loss: 0.0481,Test Loss: 0.9866\n",
      "Epoch [198/200],Train Loss: 0.0466,Test Loss: 0.9866\n",
      "Epoch [199/200],Train Loss: 0.0446,Test Loss: 0.9863\n",
      "Epoch [200/200],Train Loss: 0.0430,Test Loss: 0.9862\n"
     ]
    },
    {
     "data": {
      "image/png": "[encoded data removed]",
      "text/plain": [
       "<Figure size 640x480 with 1 Axes>"
      ]
     },
     "metadata": {},
     "output_type": "display_data"
    },
    {
     "name": "stdout",
     "output_type": "stream",
     "text": [
      "train end: best loss 0.9389, best test loss 0.9770, Epoch 15\n",
      "train total time:  2h:54m:0s\n"
     ]
    }
   ],
   "source": [
    "from common.cache import CacheType\n",
    "\n",
    "# if cached and want to second training, set train_twice = True\n",
    "train_twice = False\n",
    "# train\n",
    "if not is_need_train:\n",
    "    print('non train.')\n",
    "else:\n",
    "    from common.train_model import run as run_train\n",
    "    if train_dataloader is None:\n",
    "        raise Exception('load train dataloader first')\n",
    "    if train_twice:\n",
    "        cache_model = Cache(CacheType.MODEL).read_model()\n",
    "        model.load_state_dict(cache_model.state_dict())\n",
    "    run_train(model,train_dataloader,test_dataloader)"
   ]
  },
  {
   "cell_type": "code",
   "execution_count": 1,
   "metadata": {},
   "outputs": [
    {
     "ename": "NameError",
     "evalue": "name 'is_need_train' is not defined",
     "output_type": "error",
     "traceback": [
      "\u001b[1;31m---------------------------------------------------------------------------\u001b[0m",
      "\u001b[1;31mNameError\u001b[0m                                 Traceback (most recent call last)",
      "Cell \u001b[1;32mIn[1], line 6\u001b[0m\n\u001b[0;32m      4\u001b[0m \u001b[38;5;28;01mimport\u001b[39;00m \u001b[38;5;21;01mmatplotlib\u001b[39;00m\u001b[38;5;21;01m.\u001b[39;00m\u001b[38;5;21;01mpyplot\u001b[39;00m \u001b[38;5;28;01mas\u001b[39;00m \u001b[38;5;21;01mplt\u001b[39;00m\n\u001b[0;32m      5\u001b[0m \u001b[38;5;28;01mimport\u001b[39;00m \u001b[38;5;21;01mnumpy\u001b[39;00m \u001b[38;5;28;01mas\u001b[39;00m \u001b[38;5;21;01mnp\u001b[39;00m\n\u001b[1;32m----> 6\u001b[0m \u001b[38;5;28;01mif\u001b[39;00m use_cache_model \u001b[38;5;129;01mand\u001b[39;00m \u001b[43mis_need_train\u001b[49m:\n\u001b[0;32m      7\u001b[0m     cache_model \u001b[38;5;241m=\u001b[39m Cache(CacheType\u001b[38;5;241m.\u001b[39mMODEL)\u001b[38;5;241m.\u001b[39mread_model()\n\u001b[0;32m      8\u001b[0m     model\u001b[38;5;241m.\u001b[39mload_state_dict(cache_model\u001b[38;5;241m.\u001b[39mstate_dict())\n",
      "\u001b[1;31mNameError\u001b[0m: name 'is_need_train' is not defined"
     ]
    }
   ],
   "source": [
    "# load test model\n",
    "use_cache_model = True\n",
    "\n",
    "import matplotlib.pyplot as plt\n",
    "import numpy as np\n",
    "if use_cache_model and is_need_train:\n",
    "    cache_model = Cache(CacheType.MODEL).read_model()\n",
    "    model.load_state_dict(cache_model.state_dict())\n",
    "model.eval()\n",
    "model.to(get_device())\n",
    "pass"
   ]
  },
  {
   "cell_type": "code",
   "execution_count": 5,
   "metadata": {},
   "outputs": [
    {
     "ename": "RuntimeError",
     "evalue": "number of dims don't match in permute",
     "output_type": "error",
     "traceback": [
      "\u001b[1;31m---------------------------------------------------------------------------\u001b[0m",
      "\u001b[1;31mRuntimeError\u001b[0m                              Traceback (most recent call last)",
      "\u001b[1;32md:\\yxl\\compression\\main.ipynb Cell 5\u001b[0m line \u001b[0;36m1\n\u001b[0;32m     <a href='vscode-notebook-cell:/d%3A/yxl/compression/main.ipynb#W4sZmlsZQ%3D%3D?line=10'>11</a>\u001b[0m batch_X \u001b[39m=\u001b[39m batch_X\u001b[39m.\u001b[39mview(\u001b[39m1\u001b[39m, \u001b[39m-\u001b[39m\u001b[39m1\u001b[39m)\u001b[39m.\u001b[39mto(gpu_device)\n\u001b[0;32m     <a href='vscode-notebook-cell:/d%3A/yxl/compression/main.ipynb#W4sZmlsZQ%3D%3D?line=11'>12</a>\u001b[0m batch_y \u001b[39m=\u001b[39m batch_y\u001b[39m.\u001b[39mto(gpu_device)\n\u001b[1;32m---> <a href='vscode-notebook-cell:/d%3A/yxl/compression/main.ipynb#W4sZmlsZQ%3D%3D?line=12'>13</a>\u001b[0m pred \u001b[39m=\u001b[39m model(batch_X)\n\u001b[0;32m     <a href='vscode-notebook-cell:/d%3A/yxl/compression/main.ipynb#W4sZmlsZQ%3D%3D?line=13'>14</a>\u001b[0m true_data \u001b[39m=\u001b[39m np\u001b[39m.\u001b[39marray(batch_y\u001b[39m.\u001b[39mdetach()\u001b[39m.\u001b[39mview(\u001b[39m-\u001b[39m\u001b[39m1\u001b[39m)\u001b[39m.\u001b[39mnumpy())\n\u001b[0;32m     <a href='vscode-notebook-cell:/d%3A/yxl/compression/main.ipynb#W4sZmlsZQ%3D%3D?line=14'>15</a>\u001b[0m pred_data \u001b[39m=\u001b[39m np\u001b[39m.\u001b[39marray(pred\u001b[39m.\u001b[39mdetach()\u001b[39m.\u001b[39mview(\u001b[39m-\u001b[39m\u001b[39m1\u001b[39m)\u001b[39m.\u001b[39mnumpy())\n",
      "File \u001b[1;32mc:\\Users\\Bob2006\\.conda\\envs\\compress\\lib\\site-packages\\torch\\nn\\modules\\module.py:1130\u001b[0m, in \u001b[0;36mModule._call_impl\u001b[1;34m(self, *input, **kwargs)\u001b[0m\n\u001b[0;32m   1126\u001b[0m \u001b[39m# If we don't have any hooks, we want to skip the rest of the logic in\u001b[39;00m\n\u001b[0;32m   1127\u001b[0m \u001b[39m# this function, and just call forward.\u001b[39;00m\n\u001b[0;32m   1128\u001b[0m \u001b[39mif\u001b[39;00m \u001b[39mnot\u001b[39;00m (\u001b[39mself\u001b[39m\u001b[39m.\u001b[39m_backward_hooks \u001b[39mor\u001b[39;00m \u001b[39mself\u001b[39m\u001b[39m.\u001b[39m_forward_hooks \u001b[39mor\u001b[39;00m \u001b[39mself\u001b[39m\u001b[39m.\u001b[39m_forward_pre_hooks \u001b[39mor\u001b[39;00m _global_backward_hooks\n\u001b[0;32m   1129\u001b[0m         \u001b[39mor\u001b[39;00m _global_forward_hooks \u001b[39mor\u001b[39;00m _global_forward_pre_hooks):\n\u001b[1;32m-> 1130\u001b[0m     \u001b[39mreturn\u001b[39;00m forward_call(\u001b[39m*\u001b[39m\u001b[39minput\u001b[39m, \u001b[39m*\u001b[39m\u001b[39m*\u001b[39mkwargs)\n\u001b[0;32m   1131\u001b[0m \u001b[39m# Do not call functions when jit is used\u001b[39;00m\n\u001b[0;32m   1132\u001b[0m full_backward_hooks, non_full_backward_hooks \u001b[39m=\u001b[39m [], []\n",
      "File \u001b[1;32md:\\yxl\\compression\\method\\POS.py:16\u001b[0m, in \u001b[0;36mPOS.forward\u001b[1;34m(self, x)\u001b[0m\n\u001b[0;32m     14\u001b[0m \u001b[39mdef\u001b[39;00m \u001b[39mforward\u001b[39m(\u001b[39mself\u001b[39m,x):\n\u001b[1;32m---> 16\u001b[0m     x \u001b[39m=\u001b[39m torch\u001b[39m.\u001b[39;49mpermute(x, (\u001b[39m0\u001b[39;49m, \u001b[39m2\u001b[39;49m, \u001b[39m1\u001b[39;49m, \u001b[39m3\u001b[39;49m,\u001b[39m4\u001b[39;49m))  \u001b[39m# (B, N, C)\u001b[39;00m\n\u001b[0;32m     17\u001b[0m     x \u001b[39m=\u001b[39m torch\u001b[39m.\u001b[39mmean(x, dim\u001b[39m=\u001b[39m(\u001b[39m3\u001b[39m, \u001b[39m4\u001b[39m))\n\u001b[0;32m     19\u001b[0m     batch_size, N, num_features \u001b[39m=\u001b[39m x\u001b[39m.\u001b[39mshape\n",
      "\u001b[1;31mRuntimeError\u001b[0m: number of dims don't match in permute"
     ]
    },
    {
     "data": {
      "image/png": "[encoded data removed]",
      "text/plain": [
       "<Figure size 640x480 with 1 Axes>"
      ]
     },
     "metadata": {},
     "output_type": "display_data"
    }
   ],
   "source": [
    "# output image\n",
    "i = 0\n",
    "gpu_device = get_device()\n",
    "for batch_X, batch_y in test_dataloader:\n",
    "    index_n = 7\n",
    "    if i == index_n:\n",
    "        plt.title(\"BVP PRED\")\n",
    "        plt.xlabel(\"T\")\n",
    "        plt.ylabel(\"BVP\")\n",
    "\n",
    "        batch_X = batch_X.to(gpu_device)\n",
    "        batch_y = batch_y.to(gpu_device)\n",
    "        pred = model(batch_X)\n",
    "        true_data = np.array(batch_y.detach().view(-1).numpy())\n",
    "        pred_data = np.array(pred.detach().view(-1).numpy())\n",
    "        true_data = true_data = (true_data - true_data.mean())/true_data.std()\n",
    "        pred_data = pred_data = (pred_data - pred_data.mean())/pred_data.std()\n",
    "        plt.plot(true_data, label=\"True Line\")\n",
    "        plt.plot(pred_data, label=\"Pred Line\")\n",
    "        plt.legend()\n",
    "        plt.show()\n",
    "    if i > index_n:\n",
    "        break\n",
    "    i+=1\n"
   ]
  },
  {
   "cell_type": "code",
   "execution_count": null,
   "metadata": {},
   "outputs": [
    {
     "name": "stdout",
     "output_type": "stream",
     "text": [
      "hhh\n"
     ]
    }
   ],
   "source": [
    "try:\n",
    "    while True:\n",
    "        pass\n",
    "except KeyboardInterrupt:\n",
    "    print(\"hhh\")"
   ]
  }
 ],
 "metadata": {
  "kernelspec": {
   "display_name": "compress",
   "language": "python",
   "name": "python3"
  },
  "language_info": {
   "codemirror_mode": {
    "name": "ipython",
    "version": 3
   },
   "file_extension": ".py",
   "mimetype": "text/x-python",
   "name": "python",
   "nbconvert_exporter": "python",
   "pygments_lexer": "ipython3",
   "version": "3.9.18"
  },
  "orig_nbformat": 4
 },
 "nbformat": 4,
 "nbformat_minor": 2
}
