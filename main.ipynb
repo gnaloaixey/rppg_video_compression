{
 "cells": [
  {
   "cell_type": "code",
   "execution_count": 1,
   "metadata": {},
   "outputs": [
    {
     "name": "stdout",
     "output_type": "stream",
     "text": [
      "CUDA:\n",
      "---------------------------\n",
      "PyTorch supports GPU and currently has 1 CUDA devices available.\n",
      "The current default CUDA device is: NVIDIA GeForce GTX 1050 Ti\n",
      "---------------------------\n",
      "Method and Preprocessing Name: GREEN\n",
      "Model:\n",
      "------------------\n",
      "GREEN()\n",
      "------------------\n",
      "Test Loader: UBFC_Phys\n"
     ]
    }
   ],
   "source": [
    "from util.torch_info import print_info\n",
    "from singleton_pattern import load_dataset_loader,load_model,load_data_generator,load_config\n",
    "load_config.init_config('GREEN_UBFC-PHYs_UBFC-PHys_10.yaml')\n",
    "print_info()\n",
    "non_dnn_method_list = load_config.get_non_dnn_method_list()\n",
    "\n",
    "config = load_config.get_config()\n",
    "model = load_model.get_model()\n",
    "tensor_data_generator = load_data_generator.get_tensor_data_generator()\n",
    "print(f'Method and Preprocessing Name: {config[\"method\"]}')\n",
    "print(f'Model:\\n------------------\\n{model}\\n------------------')\n",
    "test_loader = load_dataset_loader.get_test_loader()\n",
    "print(f'Test Loader: {test_loader.loader_name}')"
   ]
  },
  {
   "cell_type": "code",
   "execution_count": 2,
   "metadata": {},
   "outputs": [
    {
     "name": "stdout",
     "output_type": "stream",
     "text": [
      "non train\n"
     ]
    }
   ],
   "source": [
    "import datetime\n",
    "def train():\n",
    "    if config['method'] in non_dnn_method_list: \n",
    "        print('non train')\n",
    "        return\n",
    "    start_time = datetime.datetime.now()\n",
    "    train_loader = load_dataset_loader.get_train_loader()\n",
    "    print(f'train_loader: {train_loader.loader_name}')\n",
    "    model.train(train_loader.load_data())\n",
    "    runtime = datetime.datetime.now() - start_time\n",
    "    hours, remainder = divmod(runtime.total_seconds(), 3600)\n",
    "    minutes, seconds = divmod(remainder, 60)\n",
    "    print(f\"train total time:  {int(hours)}h:{int(minutes)}m:{int(seconds)}s\")\n",
    "# run train\n",
    "train()"
   ]
  },
  {
   "cell_type": "code",
   "execution_count": 3,
   "metadata": {},
   "outputs": [
    {
     "name": "stdout",
     "output_type": "stream",
     "text": [
      "Start Reading UBFC_Phys Dataset Directory...\n",
      "Root Path:D:\\dataset\\rppg\\UBFC-PHYs_1-12\n"
     ]
    },
    {
     "name": "stderr",
     "output_type": "stream",
     "text": [
      "Progress: 100%|███████████████████████████████████████████████████████| 2/2 [00:00<00:00, 95.51it/s]\n"
     ]
    },
    {
     "name": "stdout",
     "output_type": "stream",
     "text": [
      "Start Generator Data...\n"
     ]
    },
    {
     "name": "stderr",
     "output_type": "stream",
     "text": [
      "Progress:   0%|                                                               | 0/2 [00:00<?, ?it/s]\n"
     ]
    },
    {
     "ename": "ValueError",
     "evalue": "The truth value of an array with more than one element is ambiguous. Use a.any() or a.all()",
     "output_type": "error",
     "traceback": [
      "\u001b[1;31m---------------------------------------------------------------------------\u001b[0m",
      "\u001b[1;31mValueError\u001b[0m                                Traceback (most recent call last)",
      "Cell \u001b[1;32mIn[3], line 5\u001b[0m\n\u001b[0;32m      2\u001b[0m model\u001b[39m.\u001b[39meval()\n\u001b[0;32m      4\u001b[0m data \u001b[39m=\u001b[39m test_loader\u001b[39m.\u001b[39mload_data()\n\u001b[1;32m----> 5\u001b[0m X,y \u001b[39m=\u001b[39m tensor_data_generator\u001b[39m.\u001b[39;49mgenerate_tensor_data(data)\n\u001b[0;32m      6\u001b[0m \u001b[39mprint\u001b[39m(\u001b[39mf\u001b[39m\u001b[39m'\u001b[39m\u001b[39mTest Video Size: \u001b[39m\u001b[39m{\u001b[39;00mdata[\u001b[39m0\u001b[39m]\u001b[39m.\u001b[39mshape\u001b[39m}\u001b[39;00m\u001b[39m'\u001b[39m)\n",
      "File \u001b[1;32mf:\\project\\rppg_video_compression\\data_generator\\Base.py:29\u001b[0m, in \u001b[0;36mBaseDataGenerator.generate_tensor_data\u001b[1;34m(self, data)\u001b[0m\n\u001b[0;32m     26\u001b[0m y \u001b[39m=\u001b[39m  generate_interpolated_ppg(ppgs[i],video_path)\n\u001b[0;32m     27\u001b[0m \u001b[39m# 压缩\u001b[39;00m\n\u001b[0;32m     28\u001b[0m \u001b[39m# 视频特征\u001b[39;00m\n\u001b[1;32m---> 29\u001b[0m X \u001b[39m=\u001b[39m read_video_and_generate_factor(video_path,\u001b[39mself\u001b[39;49m\u001b[39m.\u001b[39;49mface_factor_extraction)\n\u001b[0;32m     30\u001b[0m \u001b[39m# 删除压缩视频\u001b[39;00m\n\u001b[0;32m     31\u001b[0m \n\u001b[0;32m     32\u001b[0m \u001b[39m# 规格化\u001b[39;00m\n\u001b[0;32m     33\u001b[0m X,y \u001b[39m=\u001b[39m \u001b[39mself\u001b[39m\u001b[39m.\u001b[39mnormalization(X,y)\n",
      "File \u001b[1;32mf:\\project\\rppg_video_compression\\util\\face_detection.py:25\u001b[0m, in \u001b[0;36mread_video_and_generate_factor\u001b[1;34m(video_path, handle)\u001b[0m\n\u001b[0;32m     23\u001b[0m     \u001b[39mbreak\u001b[39;00m\n\u001b[0;32m     24\u001b[0m x \u001b[39m=\u001b[39m handle(frame)\n\u001b[1;32m---> 25\u001b[0m \u001b[39mif\u001b[39;00m x \u001b[39m!=\u001b[39;49m \u001b[39mNone\u001b[39;49;00m:\n\u001b[0;32m     26\u001b[0m     temp \u001b[39m=\u001b[39m x\n\u001b[0;32m     27\u001b[0m     factors\u001b[39m.\u001b[39mappend(x)\n",
      "\u001b[1;31mValueError\u001b[0m: The truth value of an array with more than one element is ambiguous. Use a.any() or a.all()"
     ]
    }
   ],
   "source": [
    "# test\n",
    "model.eval()\n",
    "\n",
    "data = test_loader.load_data()\n",
    "X,y = tensor_data_generator.generate_tensor_data(data)\n",
    "print(f'Test Video Size: {data[0].shape}')\n",
    "\n",
    "# X,y = model.preprocessing(test_df)\n",
    "# pred_y = model.forward(X)\n",
    "\n",
    "# 评价指标\n"
   ]
  }
 ],
 "metadata": {
  "kernelspec": {
   "display_name": "compress",
   "language": "python",
   "name": "python3"
  },
  "language_info": {
   "codemirror_mode": {
    "name": "ipython",
    "version": 3
   },
   "file_extension": ".py",
   "mimetype": "text/x-python",
   "name": "python",
   "nbconvert_exporter": "python",
   "pygments_lexer": "ipython3",
   "version": "3.9.18"
  },
  "orig_nbformat": 4
 },
 "nbformat": 4,
 "nbformat_minor": 2
}
