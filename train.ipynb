{
 "cells": [
  {
   "cell_type": "code",
   "execution_count": 1,
   "metadata": {},
   "outputs": [
    {
     "name": "stdout",
     "output_type": "stream",
     "text": [
      "CUDA:\n",
      "---------------------------\n",
      "PyTorch supports GPU and currently has 1 CUDA devices available.\n",
      "The current default CUDA device is: NVIDIA GeForce RTX 3090\n",
      "---------------------------\n",
      "Method and DataGenerator Name: PhysNet\n"
     ]
    }
   ],
   "source": [
    "# config\n",
    "import common.init as init\n",
    "from singleton_pattern.load_model import get_model\n",
    "from  singleton_pattern.load_config import get_config,get_non_dnn_method_list\n",
    "from singleton_pattern.load_dataset_reader import get_train_reader,get_test_reader\n",
    "from singleton_pattern.load_data_generator import get_train_data_generator,get_test_data_generator\n",
    "from common.cache import Cache\n",
    "from common.cuda_info import get_device\n",
    "from common.cache import CacheType\n",
    "config_name = 'PhysNet.yaml'\n",
    "# config_name = 'POS.yaml'\n",
    "# init\n",
    "init.run(config_name)"
   ]
  },
  {
   "cell_type": "code",
   "execution_count": 2,
   "metadata": {},
   "outputs": [
    {
     "name": "stdout",
     "output_type": "stream",
     "text": [
      "Test Loader: UBFC_Phys\n",
      "Root Path:D:\\dataset\\compression\\UBFC-PHYs_1\n",
      "Start Reading UBFC_Phys Dataset Directory...\n"
     ]
    },
    {
     "data": {
      "application/vnd.jupyter.widget-view+json": {
       "model_id": "d7438faf52f74e9ab17774b37b7d321e",
       "version_major": 2,
       "version_minor": 0
      },
      "text/plain": [
       "Progress:   0%|          | 0/1 [00:00<?, ?it/s]"
      ]
     },
     "metadata": {},
     "output_type": "display_data"
    },
    {
     "name": "stdout",
     "output_type": "stream",
     "text": [
      "cache path:cache\\TEST\\5c685eb5b075d1f4fec4da8f9833b7b982ff932acb5fdc506f51b1c13dfcd9f5\n",
      "dataset size: 69\n"
     ]
    }
   ],
   "source": [
    "config = get_config()\n",
    "non_dnn_method_list = get_non_dnn_method_list()\n",
    "model = get_model()\n",
    "is_need_train = config['method'] not in non_dnn_method_list\n",
    "# load test dataset\n",
    "test_reader = get_test_reader()\n",
    "test_data_generator = get_test_data_generator()\n",
    "print(f'Test Loader: {test_reader.loader_name}')\n",
    "test_data = test_reader.load_data()\n",
    "test_dataloader = test_data_generator.get_tensor_dataloader(test_data)"
   ]
  },
  {
   "cell_type": "code",
   "execution_count": 3,
   "metadata": {},
   "outputs": [
    {
     "name": "stdout",
     "output_type": "stream",
     "text": [
      "train_reader: UBFC_Phys\n",
      "Root Path:D:\\dataset\\compression\\UBFC-PHYs_1_11\n",
      "Start Reading UBFC_Phys Dataset Directory...\n"
     ]
    },
    {
     "data": {
      "application/vnd.jupyter.widget-view+json": {
       "model_id": "470da4689ebe40d8b3fb2c34707dfe81",
       "version_major": 2,
       "version_minor": 0
      },
      "text/plain": [
       "Progress:   0%|          | 0/11 [00:00<?, ?it/s]"
      ]
     },
     "metadata": {},
     "output_type": "display_data"
    },
    {
     "name": "stdout",
     "output_type": "stream",
     "text": [
      "cache path:cache\\TRAIN\\fe9d4b674f5c86e5c1f1dbf7b73420e300a3c39f37f6340eb6bc69d23e81c0be\n",
      "dataset size: 723\n",
      "cache path:cache\\MODEL\\\n",
      "optimizer:Adam (\n",
      "Parameter Group 0\n",
      "    amsgrad: False\n",
      "    betas: (0.9, 0.999)\n",
      "    capturable: False\n",
      "    eps: 1e-08\n",
      "    foreach: None\n",
      "    lr: 0.01\n",
      "    maximize: False\n",
      "    weight_decay: 0\n",
      ")\n",
      "criterion:PhyNetLoss(\n",
      "  (neg_pearson_Loss): NegPearsonLoss(\n",
      "    (pearson): PearsonLoss()\n",
      "  )\n",
      ")\n"
     ]
    },
    {
     "data": {
      "application/vnd.jupyter.widget-view+json": {
       "model_id": "e71b4efb4cd6466381ee98d699d0f3cd",
       "version_major": 2,
       "version_minor": 0
      },
      "text/plain": [
       "Progress:   0%|          | 0/500 [00:00<?, ?it/s]"
      ]
     },
     "metadata": {},
     "output_type": "display_data"
    },
    {
     "name": "stdout",
     "output_type": "stream",
     "text": [
      "cache path:cache\\MODEL\\\n",
      "Epoch [1/500],Train Loss: 0.6963,Test Loss: 0.7230\n",
      "Epoch [2/500],Train Loss: 0.6488,Test Loss: 0.7146\n",
      "Epoch [3/500],Train Loss: 0.6406,Test Loss: 0.7225\n",
      "Epoch [4/500],Train Loss: 0.6394,Test Loss: 0.7313\n",
      "Epoch [5/500],Train Loss: 0.6379,Test Loss: 0.7359\n",
      "Epoch [6/500],Train Loss: 0.6366,Test Loss: 0.7385\n",
      "Epoch [7/500],Train Loss: 0.6361,Test Loss: 0.7424\n",
      "Epoch [8/500],Train Loss: 0.6352,Test Loss: 0.7441\n",
      "Epoch [9/500],Train Loss: 0.6343,Test Loss: 0.7468\n",
      "Epoch [10/500],Train Loss: 0.6334,Test Loss: 0.7492\n",
      "Epoch [11/500],Train Loss: 0.6330,Test Loss: 0.7526\n",
      "Epoch [12/500],Train Loss: 0.6326,Test Loss: 0.7546\n",
      "Epoch [13/500],Train Loss: 0.6320,Test Loss: 0.7557\n",
      "Epoch [14/500],Train Loss: 0.6315,Test Loss: 0.7567\n",
      "Epoch [15/500],Train Loss: 0.6311,Test Loss: 0.7580\n",
      "Epoch [16/500],Train Loss: 0.6313,Test Loss: 0.7586\n",
      "Epoch [17/500],Train Loss: 0.6311,Test Loss: 0.7596\n",
      "Epoch [18/500],Train Loss: 0.6312,Test Loss: 0.7601\n",
      "Epoch [19/500],Train Loss: 0.6309,Test Loss: 0.7603\n",
      "Epoch [20/500],Train Loss: 0.6306,Test Loss: 0.7607\n",
      "Epoch [21/500],Train Loss: 0.6305,Test Loss: 0.7606\n",
      "Epoch [22/500],Train Loss: 0.6301,Test Loss: 0.7599\n",
      "Epoch [23/500],Train Loss: 0.6301,Test Loss: 0.7602\n",
      "Epoch [24/500],Train Loss: 0.6303,Test Loss: 0.7610\n",
      "Epoch [25/500],Train Loss: 0.6301,Test Loss: 0.7603\n",
      "Epoch [26/500],Train Loss: 0.6300,Test Loss: 0.7610\n",
      "Epoch [27/500],Train Loss: 0.6300,Test Loss: 0.7610\n",
      "Epoch [28/500],Train Loss: 0.6300,Test Loss: 0.7612\n",
      "Epoch [29/500],Train Loss: 0.6298,Test Loss: 0.7623\n",
      "Epoch [30/500],Train Loss: 0.6298,Test Loss: 0.7630\n",
      "Epoch [31/500],Train Loss: 0.6299,Test Loss: 0.7638\n",
      "Epoch [32/500],Train Loss: 0.6295,Test Loss: 0.7642\n",
      "Epoch [33/500],Train Loss: 0.6296,Test Loss: 0.7659\n",
      "Epoch [34/500],Train Loss: 0.6295,Test Loss: 0.7662\n",
      "Epoch [35/500],Train Loss: 0.6293,Test Loss: 0.7660\n",
      "Epoch [36/500],Train Loss: 0.6292,Test Loss: 0.7670\n",
      "Epoch [37/500],Train Loss: 0.6292,Test Loss: 0.7677\n",
      "Epoch [38/500],Train Loss: 0.6291,Test Loss: 0.7687\n",
      "Epoch [39/500],Train Loss: 0.6291,Test Loss: 0.7699\n",
      "Epoch [40/500],Train Loss: 0.6291,Test Loss: 0.7695\n",
      "Epoch [41/500],Train Loss: 0.6291,Test Loss: 0.7698\n",
      "Epoch [42/500],Train Loss: 0.6293,Test Loss: 0.7705\n",
      "Epoch [43/500],Train Loss: 0.6292,Test Loss: 0.7718\n",
      "Epoch [44/500],Train Loss: 0.6290,Test Loss: 0.7722\n",
      "Epoch [45/500],Train Loss: 0.6291,Test Loss: 0.7734\n",
      "Epoch [46/500],Train Loss: 0.6290,Test Loss: 0.7747\n",
      "Epoch [47/500],Train Loss: 0.6290,Test Loss: 0.7758\n",
      "Epoch [48/500],Train Loss: 0.6289,Test Loss: 0.7756\n",
      "Epoch [49/500],Train Loss: 0.6289,Test Loss: 0.7773\n",
      "Epoch [50/500],Train Loss: 0.6288,Test Loss: 0.7771\n",
      "Epoch [51/500],Train Loss: 0.6288,Test Loss: 0.7782\n",
      "Epoch [52/500],Train Loss: 0.6286,Test Loss: 0.7794\n",
      "Epoch [53/500],Train Loss: 0.6287,Test Loss: 0.7792\n",
      "Epoch [54/500],Train Loss: 0.6287,Test Loss: 0.7805\n",
      "Epoch [55/500],Train Loss: 0.6287,Test Loss: 0.7807\n",
      "Epoch [56/500],Train Loss: 0.6286,Test Loss: 0.7809\n",
      "Epoch [57/500],Train Loss: 0.6284,Test Loss: 0.7819\n",
      "Epoch [58/500],Train Loss: 0.6284,Test Loss: 0.7819\n",
      "Epoch [59/500],Train Loss: 0.6284,Test Loss: 0.7826\n",
      "Epoch [60/500],Train Loss: 0.6282,Test Loss: 0.7836\n",
      "Epoch [61/500],Train Loss: 0.6282,Test Loss: 0.7839\n",
      "Epoch [62/500],Train Loss: 0.6282,Test Loss: 0.7846\n",
      "Epoch [63/500],Train Loss: 0.6283,Test Loss: 0.7845\n",
      "Epoch [64/500],Train Loss: 0.6283,Test Loss: 0.7852\n",
      "Epoch [65/500],Train Loss: 0.6283,Test Loss: 0.7846\n",
      "Epoch [66/500],Train Loss: 0.6281,Test Loss: 0.7861\n",
      "Epoch [67/500],Train Loss: 0.6281,Test Loss: 0.7858\n",
      "Epoch [68/500],Train Loss: 0.6281,Test Loss: 0.7861\n",
      "Epoch [69/500],Train Loss: 0.6281,Test Loss: 0.7876\n",
      "Epoch [70/500],Train Loss: 0.6280,Test Loss: 0.7866\n",
      "Epoch [71/500],Train Loss: 0.6279,Test Loss: 0.7867\n",
      "Epoch [72/500],Train Loss: 0.6278,Test Loss: 0.7867\n",
      "Epoch [73/500],Train Loss: 0.6278,Test Loss: 0.7881\n",
      "Epoch [74/500],Train Loss: 0.6277,Test Loss: 0.7879\n",
      "Epoch [75/500],Train Loss: 0.6278,Test Loss: 0.7883\n",
      "Epoch [76/500],Train Loss: 0.6275,Test Loss: 0.7884\n",
      "Epoch [77/500],Train Loss: 0.6275,Test Loss: 0.7882\n",
      "Epoch [78/500],Train Loss: 0.6273,Test Loss: 0.7886\n",
      "Epoch [79/500],Train Loss: 0.6273,Test Loss: 0.7889\n",
      "Epoch [80/500],Train Loss: 0.6272,Test Loss: 0.7884\n",
      "Epoch [81/500],Train Loss: 0.6271,Test Loss: 0.7894\n",
      "Epoch [82/500],Train Loss: 0.6269,Test Loss: 0.7888\n",
      "Epoch [83/500],Train Loss: 0.6269,Test Loss: 0.7899\n",
      "Epoch [84/500],Train Loss: 0.6268,Test Loss: 0.7892\n",
      "Epoch [85/500],Train Loss: 0.6268,Test Loss: 0.7890\n",
      "Epoch [86/500],Train Loss: 0.6267,Test Loss: 0.7895\n",
      "Epoch [87/500],Train Loss: 0.6267,Test Loss: 0.7886\n",
      "Epoch [88/500],Train Loss: 0.6266,Test Loss: 0.7886\n",
      "Epoch [89/500],Train Loss: 0.6264,Test Loss: 0.7891\n",
      "Epoch [90/500],Train Loss: 0.6264,Test Loss: 0.7882\n",
      "Epoch [91/500],Train Loss: 0.6263,Test Loss: 0.7893\n",
      "Epoch [92/500],Train Loss: 0.6263,Test Loss: 0.7893\n",
      "Epoch [93/500],Train Loss: 0.6261,Test Loss: 0.7886\n",
      "Epoch [94/500],Train Loss: 0.6262,Test Loss: 0.7884\n",
      "Epoch [95/500],Train Loss: 0.6260,Test Loss: 0.7884\n",
      "Epoch [96/500],Train Loss: 0.6261,Test Loss: 0.7895\n",
      "Epoch [97/500],Train Loss: 0.6260,Test Loss: 0.7887\n",
      "Epoch [98/500],Train Loss: 0.6260,Test Loss: 0.7891\n",
      "Epoch [99/500],Train Loss: 0.6259,Test Loss: 0.7888\n",
      "Epoch [100/500],Train Loss: 0.6259,Test Loss: 0.7893\n",
      "Epoch [101/500],Train Loss: 0.6258,Test Loss: 0.7889\n",
      "Epoch [102/500],Train Loss: 0.6257,Test Loss: 0.7893\n",
      "Epoch [103/500],Train Loss: 0.6257,Test Loss: 0.7886\n",
      "Epoch [104/500],Train Loss: 0.6257,Test Loss: 0.7887\n",
      "Epoch [105/500],Train Loss: 0.6257,Test Loss: 0.7887\n",
      "Epoch [106/500],Train Loss: 0.6257,Test Loss: 0.7882\n",
      "Epoch [107/500],Train Loss: 0.6257,Test Loss: 0.7885\n",
      "Epoch [108/500],Train Loss: 0.6255,Test Loss: 0.7885\n",
      "Epoch [109/500],Train Loss: 0.6255,Test Loss: 0.7869\n",
      "Epoch [110/500],Train Loss: 0.6255,Test Loss: 0.7876\n",
      "Epoch [111/500],Train Loss: 0.6255,Test Loss: 0.7872\n",
      "Epoch [112/500],Train Loss: 0.6255,Test Loss: 0.7874\n",
      "Epoch [113/500],Train Loss: 0.6255,Test Loss: 0.7872\n",
      "Epoch [114/500],Train Loss: 0.6255,Test Loss: 0.7876\n",
      "Epoch [115/500],Train Loss: 0.6254,Test Loss: 0.7884\n",
      "Epoch [116/500],Train Loss: 0.6254,Test Loss: 0.7878\n",
      "Epoch [117/500],Train Loss: 0.6254,Test Loss: 0.7881\n",
      "Epoch [118/500],Train Loss: 0.6254,Test Loss: 0.7876\n",
      "Epoch [119/500],Train Loss: 0.6254,Test Loss: 0.7872\n",
      "Epoch [120/500],Train Loss: 0.6254,Test Loss: 0.7865\n",
      "Epoch [121/500],Train Loss: 0.6253,Test Loss: 0.7866\n",
      "Epoch [122/500],Train Loss: 0.6253,Test Loss: 0.7869\n",
      "Epoch [123/500],Train Loss: 0.6254,Test Loss: 0.7867\n",
      "Epoch [124/500],Train Loss: 0.6253,Test Loss: 0.7868\n",
      "Epoch [125/500],Train Loss: 0.6254,Test Loss: 0.7867\n",
      "Epoch [126/500],Train Loss: 0.6253,Test Loss: 0.7872\n",
      "Epoch [127/500],Train Loss: 0.6253,Test Loss: 0.7869\n",
      "Epoch [128/500],Train Loss: 0.6253,Test Loss: 0.7874\n",
      "Epoch [129/500],Train Loss: 0.6253,Test Loss: 0.7868\n",
      "Epoch [130/500],Train Loss: 0.6254,Test Loss: 0.7866\n",
      "Epoch [131/500],Train Loss: 0.6254,Test Loss: 0.7875\n",
      "Epoch [132/500],Train Loss: 0.6253,Test Loss: 0.7868\n",
      "Epoch [133/500],Train Loss: 0.6254,Test Loss: 0.7868\n",
      "Epoch [134/500],Train Loss: 0.6253,Test Loss: 0.7865\n",
      "Epoch [135/500],Train Loss: 0.6254,Test Loss: 0.7860\n",
      "Epoch [136/500],Train Loss: 0.6254,Test Loss: 0.7860\n",
      "Epoch [137/500],Train Loss: 0.6255,Test Loss: 0.7863\n",
      "Epoch [138/500],Train Loss: 0.6255,Test Loss: 0.7859\n",
      "Epoch [139/500],Train Loss: 0.6255,Test Loss: 0.7860\n",
      "Epoch [140/500],Train Loss: 0.6255,Test Loss: 0.7852\n",
      "Epoch [141/500],Train Loss: 0.6255,Test Loss: 0.7852\n",
      "Epoch [142/500],Train Loss: 0.6255,Test Loss: 0.7856\n",
      "Epoch [143/500],Train Loss: 0.6254,Test Loss: 0.7858\n",
      "Epoch [144/500],Train Loss: 0.6254,Test Loss: 0.7861\n",
      "Epoch [145/500],Train Loss: 0.6254,Test Loss: 0.7851\n",
      "Epoch [146/500],Train Loss: 0.6254,Test Loss: 0.7857\n",
      "Epoch [147/500],Train Loss: 0.6255,Test Loss: 0.7849\n",
      "Epoch [148/500],Train Loss: 0.6254,Test Loss: 0.7843\n",
      "Epoch [149/500],Train Loss: 0.6254,Test Loss: 0.7860\n",
      "Epoch [150/500],Train Loss: 0.6254,Test Loss: 0.7850\n",
      "Epoch [151/500],Train Loss: 0.6254,Test Loss: 0.7845\n",
      "Epoch [152/500],Train Loss: 0.6253,Test Loss: 0.7844\n",
      "Epoch [153/500],Train Loss: 0.6254,Test Loss: 0.7835\n",
      "Epoch [154/500],Train Loss: 0.6254,Test Loss: 0.7840\n",
      "Epoch [155/500],Train Loss: 0.6254,Test Loss: 0.7832\n",
      "Epoch [156/500],Train Loss: 0.6254,Test Loss: 0.7838\n",
      "Epoch [157/500],Train Loss: 0.6255,Test Loss: 0.7840\n",
      "Epoch [158/500],Train Loss: 0.6254,Test Loss: 0.7835\n",
      "Epoch [159/500],Train Loss: 0.6254,Test Loss: 0.7835\n",
      "Epoch [160/500],Train Loss: 0.6255,Test Loss: 0.7828\n",
      "Epoch [161/500],Train Loss: 0.6254,Test Loss: 0.7836\n",
      "Epoch [162/500],Train Loss: 0.6253,Test Loss: 0.7835\n",
      "Epoch [163/500],Train Loss: 0.6254,Test Loss: 0.7842\n",
      "Epoch [164/500],Train Loss: 0.6254,Test Loss: 0.7838\n",
      "Epoch [165/500],Train Loss: 0.6254,Test Loss: 0.7830\n",
      "Epoch [166/500],Train Loss: 0.6254,Test Loss: 0.7827\n",
      "Epoch [167/500],Train Loss: 0.6254,Test Loss: 0.7826\n",
      "Epoch [168/500],Train Loss: 0.6253,Test Loss: 0.7835\n",
      "Epoch [169/500],Train Loss: 0.6253,Test Loss: 0.7830\n",
      "Epoch [170/500],Train Loss: 0.6253,Test Loss: 0.7821\n",
      "Epoch [171/500],Train Loss: 0.6254,Test Loss: 0.7816\n",
      "Epoch [172/500],Train Loss: 0.6254,Test Loss: 0.7819\n",
      "Epoch [173/500],Train Loss: 0.6253,Test Loss: 0.7822\n",
      "Epoch [174/500],Train Loss: 0.6253,Test Loss: 0.7818\n",
      "Epoch [175/500],Train Loss: 0.6253,Test Loss: 0.7807\n",
      "Epoch [176/500],Train Loss: 0.6253,Test Loss: 0.7812\n",
      "Epoch [177/500],Train Loss: 0.6253,Test Loss: 0.7803\n",
      "Epoch [178/500],Train Loss: 0.6253,Test Loss: 0.7802\n",
      "Epoch [179/500],Train Loss: 0.6253,Test Loss: 0.7799\n",
      "Epoch [180/500],Train Loss: 0.6254,Test Loss: 0.7801\n",
      "Epoch [181/500],Train Loss: 0.6253,Test Loss: 0.7808\n",
      "Epoch [182/500],Train Loss: 0.6254,Test Loss: 0.7805\n",
      "Epoch [183/500],Train Loss: 0.6252,Test Loss: 0.7803\n",
      "Epoch [184/500],Train Loss: 0.6252,Test Loss: 0.7794\n",
      "Epoch [185/500],Train Loss: 0.6252,Test Loss: 0.7795\n",
      "Epoch [186/500],Train Loss: 0.6252,Test Loss: 0.7796\n",
      "Epoch [187/500],Train Loss: 0.6253,Test Loss: 0.7792\n",
      "Epoch [188/500],Train Loss: 0.6253,Test Loss: 0.7794\n",
      "Epoch [189/500],Train Loss: 0.6253,Test Loss: 0.7788\n",
      "Epoch [190/500],Train Loss: 0.6252,Test Loss: 0.7789\n",
      "Epoch [191/500],Train Loss: 0.6253,Test Loss: 0.7791\n",
      "Epoch [192/500],Train Loss: 0.6253,Test Loss: 0.7794\n",
      "Epoch [193/500],Train Loss: 0.6254,Test Loss: 0.7791\n",
      "Epoch [194/500],Train Loss: 0.6254,Test Loss: 0.7790\n",
      "Epoch [195/500],Train Loss: 0.6256,Test Loss: 0.7789\n",
      "Epoch [196/500],Train Loss: 0.6255,Test Loss: 0.7797\n",
      "Epoch [197/500],Train Loss: 0.6256,Test Loss: 0.7790\n",
      "Epoch [198/500],Train Loss: 0.6256,Test Loss: 0.7793\n",
      "Epoch [199/500],Train Loss: 0.6255,Test Loss: 0.7790\n",
      "Epoch [200/500],Train Loss: 0.6256,Test Loss: 0.7794\n",
      "Epoch [201/500],Train Loss: 0.6257,Test Loss: 0.7781\n",
      "Epoch [202/500],Train Loss: 0.6256,Test Loss: 0.7791\n",
      "Epoch [203/500],Train Loss: 0.6258,Test Loss: 0.7801\n",
      "Epoch [204/500],Train Loss: 0.6256,Test Loss: 0.7806\n",
      "Epoch [205/500],Train Loss: 0.6256,Test Loss: 0.7792\n",
      "Epoch [206/500],Train Loss: 0.6256,Test Loss: 0.7795\n",
      "Epoch [207/500],Train Loss: 0.6256,Test Loss: 0.7797\n",
      "Epoch [208/500],Train Loss: 0.6257,Test Loss: 0.7790\n",
      "Epoch [209/500],Train Loss: 0.6257,Test Loss: 0.7794\n",
      "Epoch [210/500],Train Loss: 0.6258,Test Loss: 0.7787\n",
      "Epoch [211/500],Train Loss: 0.6257,Test Loss: 0.7796\n",
      "training is forcibly terminated: best loss 0.6488, best test loss 0.7146, Epoch 2\n",
      "train total time:  4h:51m:30s\n",
      "cache path:cache\\MODEL\\\n"
     ]
    },
    {
     "data": {
      "image/png": "[encoded data removed]",
      "text/plain": [
       "<Figure size 640x480 with 1 Axes>"
      ]
     },
     "metadata": {},
     "output_type": "display_data"
    }
   ],
   "source": [
    "train_dataloader = None\n",
    "# load train dataset\n",
    "if is_need_train:\n",
    "    train_reader = get_train_reader()\n",
    "    print(f'train_reader: {train_reader.loader_name}')\n",
    "    train_data = train_reader.load_data()\n",
    "    train_data_generator = get_train_data_generator()\n",
    "    train_dataloader = train_data_generator.get_tensor_dataloader(train_data)\n",
    "\n",
    "# if cached and want to second training, set train_twice = True\n",
    "train_twice = True\n",
    "# train\n",
    "if not is_need_train:\n",
    "    print('non train.')\n",
    "else:\n",
    "    from common.train_model import run as run_train\n",
    "    if train_dataloader is None:\n",
    "        raise Exception('load train dataloader first')\n",
    "    if train_twice:\n",
    "        cache_model = Cache(CacheType.MODEL).read_model()\n",
    "        model.load_state_dict(cache_model.state_dict())\n",
    "    run_train(model,train_dataloader,test_dataloader)"
   ]
  },
  {
   "cell_type": "code",
   "execution_count": 4,
   "metadata": {},
   "outputs": [],
   "source": [
    "# load test model\n",
    "use_cache_model = False\n",
    "\n",
    "import matplotlib.pyplot as plt\n",
    "import numpy as np\n",
    "if use_cache_model and is_need_train:\n",
    "    cache_model = Cache(CacheType.MODEL).read_model()\n",
    "    model.load_state_dict(cache_model.state_dict())\n",
    "model.eval()\n",
    "model.to(get_device())\n",
    "pass"
   ]
  },
  {
   "cell_type": "code",
   "execution_count": 5,
   "metadata": {},
   "outputs": [
    {
     "ename": "RuntimeError",
     "evalue": "Can't call numpy() on Tensor that requires grad. Use tensor.detach().numpy() instead.",
     "output_type": "error",
     "traceback": [
      "\u001b[1;31m---------------------------------------------------------------------------\u001b[0m",
      "\u001b[1;31mRuntimeError\u001b[0m                              Traceback (most recent call last)",
      "Cell \u001b[1;32mIn[5], line 15\u001b[0m\n\u001b[0;32m     13\u001b[0m pred \u001b[38;5;241m=\u001b[39m model(batch_X)\n\u001b[0;32m     14\u001b[0m true_data \u001b[38;5;241m=\u001b[39m batch_y\u001b[38;5;241m.\u001b[39mcpu()\u001b[38;5;241m.\u001b[39mview(\u001b[38;5;241m-\u001b[39m\u001b[38;5;241m1\u001b[39m)\u001b[38;5;241m.\u001b[39mnumpy()\n\u001b[1;32m---> 15\u001b[0m pred_data \u001b[38;5;241m=\u001b[39m \u001b[43mpred\u001b[49m\u001b[38;5;241;43m.\u001b[39;49m\u001b[43mcpu\u001b[49m\u001b[43m(\u001b[49m\u001b[43m)\u001b[49m\u001b[38;5;241;43m.\u001b[39;49m\u001b[43mview\u001b[49m\u001b[43m(\u001b[49m\u001b[38;5;241;43m-\u001b[39;49m\u001b[38;5;241;43m1\u001b[39;49m\u001b[43m)\u001b[49m\u001b[38;5;241;43m.\u001b[39;49m\u001b[43mnumpy\u001b[49m\u001b[43m(\u001b[49m\u001b[43m)\u001b[49m\n\u001b[0;32m     16\u001b[0m true_data \u001b[38;5;241m=\u001b[39m true_data \u001b[38;5;241m=\u001b[39m (true_data \u001b[38;5;241m-\u001b[39m true_data\u001b[38;5;241m.\u001b[39mmean())\u001b[38;5;241m/\u001b[39mtrue_data\u001b[38;5;241m.\u001b[39mstd()\n\u001b[0;32m     17\u001b[0m pred_data \u001b[38;5;241m=\u001b[39m pred_data \u001b[38;5;241m=\u001b[39m (pred_data \u001b[38;5;241m-\u001b[39m pred_data\u001b[38;5;241m.\u001b[39mmean())\u001b[38;5;241m/\u001b[39mpred_data\u001b[38;5;241m.\u001b[39mstd()\n",
      "\u001b[1;31mRuntimeError\u001b[0m: Can't call numpy() on Tensor that requires grad. Use tensor.detach().numpy() instead."
     ]
    },
    {
     "data": {
      "image/png": "[encoded data removed]",
      "text/plain": [
       "<Figure size 640x480 with 1 Axes>"
      ]
     },
     "metadata": {},
     "output_type": "display_data"
    }
   ],
   "source": [
    "# output image\n",
    "i = 0\n",
    "gpu_device = get_device()\n",
    "for batch_X, batch_y in test_dataloader:\n",
    "    index_n = 1\n",
    "    if i == index_n:\n",
    "        plt.title(\"BVP PRED\")\n",
    "        plt.xlabel(\"T\")\n",
    "        plt.ylabel(\"BVP\")\n",
    "\n",
    "        batch_X = batch_X.to(gpu_device)\n",
    "        batch_y = batch_y.to(gpu_device)\n",
    "        pred = model(batch_X)\n",
    "        true_data = batch_y.cpu().view(-1).numpy()\n",
    "        pred_data = pred.cpu().view(-1).numpy()\n",
    "        true_data = true_data = (true_data - true_data.mean())/true_data.std()\n",
    "        pred_data = pred_data = (pred_data - pred_data.mean())/pred_data.std()\n",
    "        plt.plot(true_data, label=\"True Line\")\n",
    "        plt.plot(pred_data, label=\"Pred Line\")\n",
    "        plt.legend()\n",
    "        plt.show()\n",
    "    if i > index_n:\n",
    "        break\n",
    "    i+=1\n"
   ]
  }
 ],
 "metadata": {
  "kernelspec": {
   "display_name": "compress",
   "language": "python",
   "name": "python3"
  },
  "language_info": {
   "codemirror_mode": {
    "name": "ipython",
    "version": 3
   },
   "file_extension": ".py",
   "mimetype": "text/x-python",
   "name": "python",
   "nbconvert_exporter": "python",
   "pygments_lexer": "ipython3",
   "version": "3.9.18"
  },
  "orig_nbformat": 4
 },
 "nbformat": 4,
 "nbformat_minor": 2
}
