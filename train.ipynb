{
 "cells": [
  {
   "cell_type": "code",
   "execution_count": 1,
   "metadata": {},
   "outputs": [
    {
     "name": "stdout",
     "output_type": "stream",
     "text": [
      "CUDA:\n",
      "---------------------------\n",
      "PyTorch supports GPU and currently has 1 CUDA devices available.\n",
      "The current default CUDA device is: NVIDIA GeForce RTX 3090\n",
      "---------------------------\n",
      "Method and DataGenerator Name: PhysNet\n"
     ]
    }
   ],
   "source": [
    "# config\n",
    "import common.init as init\n",
    "from singleton_pattern.load_model import get_model\n",
    "from  singleton_pattern.load_config import get_config,get_non_dnn_method_list\n",
    "from singleton_pattern.load_dataset_reader import get_train_reader,get_test_reader\n",
    "from singleton_pattern.load_data_generator import get_train_data_generator,get_test_data_generator\n",
    "from common.cache import Cache\n",
    "from common.cuda_info import get_device\n",
    "from common.cache import CacheType\n",
    "config_name = 'PhysNet.yaml'\n",
    "# init\n",
    "init.run(config_name)"
   ]
  },
  {
   "cell_type": "code",
   "execution_count": 2,
   "metadata": {},
   "outputs": [
    {
     "name": "stdout",
     "output_type": "stream",
     "text": [
      "Test Loader: UBFC_Phys\n",
      "Root Path:D:\\dataset\\compression\\UBFC-PHYs_test\n",
      "Start Reading UBFC_Phys Dataset Directory...\n"
     ]
    },
    {
     "data": {
      "application/vnd.jupyter.widget-view+json": {
       "model_id": "d9f6ef00986642d4ac20fc0890709a4e",
       "version_major": 2,
       "version_minor": 0
      },
      "text/plain": [
       "Progress:   0%|          | 0/1 [00:00<?, ?it/s]"
      ]
     },
     "metadata": {},
     "output_type": "display_data"
    },
    {
     "name": "stdout",
     "output_type": "stream",
     "text": [
      "cache path:cache\\TEST\\0e184c4d62fd314096cb4b8bc2746cb72c51cc2ae98853f3a4a21152c9f3ed1b\n",
      "Start Generator Data...\n"
     ]
    },
    {
     "data": {
      "application/vnd.jupyter.widget-view+json": {
       "model_id": "28dec295c9b04982bb067ba534135836",
       "version_major": 2,
       "version_minor": 0
      },
      "text/plain": [
       "Progress:   0%|          | 0/1 [00:00<?, ?it/s]"
      ]
     },
     "metadata": {},
     "output_type": "display_data"
    },
    {
     "data": {
      "application/vnd.jupyter.widget-view+json": {
       "model_id": "30870639313f4526b7cfa8b065d6e360",
       "version_major": 2,
       "version_minor": 0
      },
      "text/plain": [
       "Processing videos 1 :   0%|          | 0/2108 [00:00<?, ?it/s]"
      ]
     },
     "metadata": {},
     "output_type": "display_data"
    },
    {
     "name": "stdout",
     "output_type": "stream",
     "text": [
      "dataset size: 51\n"
     ]
    }
   ],
   "source": [
    "config = get_config()\n",
    "non_dnn_method_list = get_non_dnn_method_list()\n",
    "model = get_model()\n",
    "is_need_train = config['method'] not in non_dnn_method_list\n",
    "# load test dataset\n",
    "test_reader = get_test_reader()\n",
    "test_data_generator = get_test_data_generator()\n",
    "print(f'Test Loader: {test_reader.loader_name}')\n",
    "test_data = test_reader.load_data()\n",
    "test_dataloader = test_data_generator.get_tensor_dataloader(test_data)"
   ]
  },
  {
   "cell_type": "code",
   "execution_count": 3,
   "metadata": {},
   "outputs": [
    {
     "name": "stdout",
     "output_type": "stream",
     "text": [
      "train_reader: UBFC_Phys\n",
      "Root Path:D:\\dataset\\compression\\UBFC-PHYs_test\n",
      "Start Reading UBFC_Phys Dataset Directory...\n"
     ]
    },
    {
     "data": {
      "application/vnd.jupyter.widget-view+json": {
       "model_id": "458939723b7c444baadb73776e624679",
       "version_major": 2,
       "version_minor": 0
      },
      "text/plain": [
       "Progress:   0%|          | 0/1 [00:00<?, ?it/s]"
      ]
     },
     "metadata": {},
     "output_type": "display_data"
    },
    {
     "name": "stdout",
     "output_type": "stream",
     "text": [
      "cache path:cache\\TRAIN\\0e184c4d62fd314096cb4b8bc2746cb72c51cc2ae98853f3a4a21152c9f3ed1b\n",
      "Start Generator Data...\n"
     ]
    },
    {
     "data": {
      "application/vnd.jupyter.widget-view+json": {
       "model_id": "26a4640e4b324d8c8c1bb1a0a595f4c6",
       "version_major": 2,
       "version_minor": 0
      },
      "text/plain": [
       "Progress:   0%|          | 0/1 [00:00<?, ?it/s]"
      ]
     },
     "metadata": {},
     "output_type": "display_data"
    },
    {
     "data": {
      "application/vnd.jupyter.widget-view+json": {
       "model_id": "5725965b603d495099fb4988bf72754c",
       "version_major": 2,
       "version_minor": 0
      },
      "text/plain": [
       "Processing videos 1 :   0%|          | 0/2108 [00:00<?, ?it/s]"
      ]
     },
     "metadata": {},
     "output_type": "display_data"
    },
    {
     "name": "stdout",
     "output_type": "stream",
     "text": [
      "dataset size: 51\n",
      "optimizer:Adam (\n",
      "Parameter Group 0\n",
      "    amsgrad: False\n",
      "    betas: (0.9, 0.999)\n",
      "    capturable: False\n",
      "    eps: 1e-08\n",
      "    foreach: None\n",
      "    lr: 0.01\n",
      "    maximize: False\n",
      "    weight_decay: 0\n",
      ")\n",
      "criterion:PhyNetLoss(\n",
      "  (neg_pearson_Loss): NegPearsonLoss(\n",
      "    (pearson): PearsonLoss()\n",
      "  )\n",
      ")\n"
     ]
    },
    {
     "data": {
      "application/vnd.jupyter.widget-view+json": {
       "model_id": "b8b74cd498fe4575b767267955af2077",
       "version_major": 2,
       "version_minor": 0
      },
      "text/plain": [
       "Progress:   0%|          | 0/500 [00:00<?, ?it/s]"
      ]
     },
     "metadata": {},
     "output_type": "display_data"
    },
    {
     "name": "stdout",
     "output_type": "stream",
     "text": [
      "cache path:cache\\MODEL\\\n",
      "Epoch [1/500],Train Loss: 1.0190,Test Loss: 0.9949\n",
      "Epoch [2/500],Train Loss: 0.9959,Test Loss: 0.9768\n",
      "Epoch [3/500],Train Loss: 0.9858,Test Loss: 0.9427\n",
      "Epoch [4/500],Train Loss: 0.9781,Test Loss: 0.9244\n",
      "Epoch [5/500],Train Loss: 0.9527,Test Loss: 0.9380\n",
      "Epoch [6/500],Train Loss: 0.9463,Test Loss: 0.8928\n",
      "Epoch [7/500],Train Loss: 0.9952,Test Loss: 0.9455\n",
      "Epoch [8/500],Train Loss: 0.9324,Test Loss: 0.9032\n",
      "Epoch [9/500],Train Loss: 0.9228,Test Loss: 0.8725\n",
      "Epoch [10/500],Train Loss: 0.9146,Test Loss: 0.8739\n",
      "Epoch [11/500],Train Loss: 0.9013,Test Loss: 0.8586\n",
      "Epoch [12/500],Train Loss: 0.8907,Test Loss: 0.8303\n",
      "Epoch [13/500],Train Loss: 0.8801,Test Loss: 0.8502\n",
      "Epoch [14/500],Train Loss: 0.8607,Test Loss: 0.8033\n",
      "Epoch [15/500],Train Loss: 0.8733,Test Loss: 0.8036\n",
      "Epoch [16/500],Train Loss: 0.8381,Test Loss: 0.8651\n",
      "Epoch [17/500],Train Loss: 0.8326,Test Loss: 0.7732\n",
      "Epoch [18/500],Train Loss: 0.8449,Test Loss: 0.7977\n",
      "Epoch [19/500],Train Loss: 0.8960,Test Loss: 0.8071\n",
      "Epoch [20/500],Train Loss: 0.8227,Test Loss: 0.8829\n",
      "Epoch [21/500],Train Loss: 0.8066,Test Loss: 0.9602\n",
      "Epoch [22/500],Train Loss: 0.7758,Test Loss: 0.7069\n",
      "Epoch [23/500],Train Loss: 0.7574,Test Loss: 0.7297\n",
      "Epoch [24/500],Train Loss: 0.7581,Test Loss: 0.7878\n",
      "Epoch [25/500],Train Loss: 0.7558,Test Loss: 0.6400\n",
      "Epoch [26/500],Train Loss: 0.7314,Test Loss: 0.9082\n",
      "Epoch [27/500],Train Loss: 0.6976,Test Loss: 0.6579\n",
      "Epoch [28/500],Train Loss: 0.6951,Test Loss: 0.7285\n",
      "Epoch [29/500],Train Loss: 0.6562,Test Loss: 0.6468\n",
      "Epoch [30/500],Train Loss: 0.5893,Test Loss: 0.5623\n",
      "Epoch [31/500],Train Loss: 0.5635,Test Loss: 0.7287\n",
      "Epoch [32/500],Train Loss: 0.5950,Test Loss: 0.7045\n",
      "Epoch [33/500],Train Loss: 0.6011,Test Loss: 0.5875\n",
      "Epoch [34/500],Train Loss: 0.6150,Test Loss: 0.6024\n",
      "Epoch [35/500],Train Loss: 0.6071,Test Loss: 0.7031\n",
      "Epoch [36/500],Train Loss: 0.5067,Test Loss: 0.4940\n",
      "Epoch [37/500],Train Loss: 0.4846,Test Loss: 0.5529\n",
      "Epoch [38/500],Train Loss: 0.4299,Test Loss: 0.4485\n",
      "Epoch [39/500],Train Loss: 0.4141,Test Loss: 0.7297\n",
      "Epoch [40/500],Train Loss: 0.3776,Test Loss: 0.4155\n",
      "Epoch [41/500],Train Loss: 0.3782,Test Loss: 0.3712\n",
      "Epoch [42/500],Train Loss: 0.3275,Test Loss: 0.4226\n",
      "Epoch [43/500],Train Loss: 0.2944,Test Loss: 0.3809\n",
      "Epoch [44/500],Train Loss: 0.2686,Test Loss: 0.5082\n",
      "Epoch [45/500],Train Loss: 0.2621,Test Loss: 0.4220\n",
      "Epoch [46/500],Train Loss: 0.2414,Test Loss: 0.3388\n",
      "Epoch [47/500],Train Loss: 0.2264,Test Loss: 0.3842\n",
      "Epoch [48/500],Train Loss: 0.2331,Test Loss: 0.4148\n",
      "Epoch [49/500],Train Loss: 0.2038,Test Loss: 0.2736\n",
      "Epoch [50/500],Train Loss: 0.1921,Test Loss: 0.4899\n",
      "Epoch [51/500],Train Loss: 0.1794,Test Loss: 0.6811\n",
      "Epoch [52/500],Train Loss: 0.1866,Test Loss: 0.6664\n",
      "Epoch [53/500],Train Loss: 0.2067,Test Loss: 0.2040\n",
      "Epoch [54/500],Train Loss: 0.1897,Test Loss: 0.3937\n",
      "Epoch [55/500],Train Loss: 0.1732,Test Loss: 0.4870\n",
      "Epoch [56/500],Train Loss: 0.1650,Test Loss: 0.2057\n",
      "Epoch [57/500],Train Loss: 0.1809,Test Loss: 0.3783\n",
      "Epoch [58/500],Train Loss: 0.1946,Test Loss: 0.4195\n",
      "Epoch [59/500],Train Loss: 0.1694,Test Loss: 0.2440\n",
      "Epoch [60/500],Train Loss: 0.1587,Test Loss: 0.2347\n",
      "Epoch [61/500],Train Loss: 0.1859,Test Loss: 0.3243\n",
      "Epoch [62/500],Train Loss: 0.1654,Test Loss: 0.2950\n",
      "Epoch [63/500],Train Loss: 0.1600,Test Loss: 0.2222\n",
      "Epoch [64/500],Train Loss: 0.1296,Test Loss: 0.2197\n",
      "Epoch [65/500],Train Loss: 0.1256,Test Loss: 0.1693\n",
      "Epoch [66/500],Train Loss: 0.1164,Test Loss: 0.1603\n",
      "Epoch [67/500],Train Loss: 0.1009,Test Loss: 0.1784\n",
      "Epoch [68/500],Train Loss: 0.0803,Test Loss: 0.1175\n",
      "Epoch [69/500],Train Loss: 0.0825,Test Loss: 0.1621\n",
      "Epoch [70/500],Train Loss: 0.0925,Test Loss: 0.1559\n",
      "Epoch [71/500],Train Loss: 0.0904,Test Loss: 0.1773\n",
      "Epoch [72/500],Train Loss: 0.0858,Test Loss: 0.2090\n",
      "Epoch [73/500],Train Loss: 0.0722,Test Loss: 0.1315\n",
      "Epoch [74/500],Train Loss: 0.0673,Test Loss: 0.1430\n",
      "Epoch [75/500],Train Loss: 0.0806,Test Loss: 0.1771\n",
      "Epoch [76/500],Train Loss: 0.0836,Test Loss: 0.1400\n",
      "Epoch [77/500],Train Loss: 0.0761,Test Loss: 0.2495\n",
      "Epoch [78/500],Train Loss: 0.0823,Test Loss: 0.1834\n",
      "Epoch [79/500],Train Loss: 0.0765,Test Loss: 0.1577\n",
      "Epoch [80/500],Train Loss: 0.0800,Test Loss: 0.2006\n",
      "Epoch [81/500],Train Loss: 0.0845,Test Loss: 0.2147\n",
      "Epoch [82/500],Train Loss: 0.0716,Test Loss: 0.1436\n",
      "Epoch [83/500],Train Loss: 0.0785,Test Loss: 0.1203\n",
      "Epoch [84/500],Train Loss: 0.0622,Test Loss: 0.1478\n",
      "Epoch [85/500],Train Loss: 0.0598,Test Loss: 0.1279\n",
      "Epoch [86/500],Train Loss: 0.0569,Test Loss: 0.1554\n",
      "Epoch [87/500],Train Loss: 0.0512,Test Loss: 0.1039\n",
      "cache path:cache\\MODEL\\\n"
     ]
    },
    {
     "data": {
      "image/png": "[encoded data removed]",
      "text/plain": [
       "<Figure size 640x480 with 1 Axes>"
      ]
     },
     "metadata": {},
     "output_type": "display_data"
    },
    {
     "name": "stdout",
     "output_type": "stream",
     "text": [
      "train end: best loss 0.0512, best test loss 0.1039, Epoch 87\n",
      "train total time:  0h:10m:36s\n"
     ]
    }
   ],
   "source": [
    "train_dataloader = None\n",
    "# load train dataset\n",
    "if is_need_train:\n",
    "    train_reader = get_train_reader()\n",
    "    print(f'train_reader: {train_reader.loader_name}')\n",
    "    train_data = train_reader.load_data()\n",
    "    train_data_generator = get_train_data_generator()\n",
    "    train_dataloader = train_data_generator.get_tensor_dataloader(train_data)\n",
    "\n",
    "# if cached and want to second training, set train_twice = True\n",
    "train_twice = False\n",
    "# train\n",
    "if not is_need_train:\n",
    "    print('non train.')\n",
    "else:\n",
    "    from common.train_model import run as run_train\n",
    "    if train_dataloader is None:\n",
    "        raise Exception('load train dataloader first')\n",
    "    if train_twice:\n",
    "        cache_model = Cache(CacheType.MODEL).read_model()\n",
    "        model.load_state_dict(cache_model.state_dict())\n",
    "    run_train(model,train_dataloader,test_dataloader)"
   ]
  }
 ],
 "metadata": {
  "kernelspec": {
   "display_name": "compress",
   "language": "python",
   "name": "python3"
  },
  "language_info": {
   "codemirror_mode": {
    "name": "ipython",
    "version": 3
   },
   "file_extension": ".py",
   "mimetype": "text/x-python",
   "name": "python",
   "nbconvert_exporter": "python",
   "pygments_lexer": "ipython3",
   "version": "3.9.18"
  },
  "orig_nbformat": 4
 },
 "nbformat": 4,
 "nbformat_minor": 2
}
