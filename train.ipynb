{
 "cells": [
  {
   "cell_type": "code",
   "execution_count": 1,
   "metadata": {},
   "outputs": [
    {
     "name": "stdout",
     "output_type": "stream",
     "text": [
      "CUDA:\n",
      "---------------------------\n",
      "PyTorch supports GPU and currently has 1 CUDA devices available.\n",
      "The current default CUDA device is: NVIDIA GeForce RTX 3090\n",
      "---------------------------\n",
      "Method and DataGenerator Name: PhysNet\n"
     ]
    }
   ],
   "source": [
    "# config\n",
    "import common.init as init\n",
    "from singleton_pattern.load_model import get_model\n",
    "from  singleton_pattern.load_config import get_config,get_non_dnn_method_list\n",
    "from singleton_pattern.load_dataset_reader import get_train_reader,get_test_reader\n",
    "from singleton_pattern.load_data_generator import get_train_data_generator,get_test_data_generator\n",
    "from common.cache import Cache\n",
    "from common.cuda_info import get_device\n",
    "from common.cache import CacheType\n",
    "config_name = 'PhysNet.yaml'\n",
    "# config_name = 'POS.yaml'\n",
    "# init\n",
    "init.run(config_name)"
   ]
  },
  {
   "cell_type": "code",
   "execution_count": 2,
   "metadata": {},
   "outputs": [
    {
     "name": "stdout",
     "output_type": "stream",
     "text": [
      "Test Loader: UBFC_Phys\n",
      "Root Path:D:\\dataset\\compression\\UBFC-PHYs_1\n",
      "Start Reading UBFC_Phys Dataset Directory...\n"
     ]
    },
    {
     "data": {
      "application/vnd.jupyter.widget-view+json": {
       "model_id": "7c878e27ea1b4bca881b14b8ad0f61e3",
       "version_major": 2,
       "version_minor": 0
      },
      "text/plain": [
       "Progress:   0%|          | 0/1 [00:00<?, ?it/s]"
      ]
     },
     "metadata": {},
     "output_type": "display_data"
    },
    {
     "name": "stdout",
     "output_type": "stream",
     "text": [
      "cache path:cache\\TEST\\5c685eb5b075d1f4fec4da8f9833b7b982ff932acb5fdc506f51b1c13dfcd9f5\n",
      "dataset size: 11\n"
     ]
    }
   ],
   "source": [
    "config = get_config()\n",
    "non_dnn_method_list = get_non_dnn_method_list()\n",
    "model = get_model()\n",
    "is_need_train = config['method'] not in non_dnn_method_list\n",
    "# load test dataset\n",
    "test_reader = get_test_reader()\n",
    "test_data_generator = get_test_data_generator()\n",
    "print(f'Test Loader: {test_reader.loader_name}')\n",
    "test_data = test_reader.load_data()\n",
    "test_dataloader = test_data_generator.get_tensor_dataloader(test_data)"
   ]
  },
  {
   "cell_type": "code",
   "execution_count": 3,
   "metadata": {},
   "outputs": [
    {
     "name": "stdout",
     "output_type": "stream",
     "text": [
      "train_reader: UBFC_Phys\n",
      "Root Path:D:\\dataset\\compression\\UBFC-PHYs_1_11\n",
      "Start Reading UBFC_Phys Dataset Directory...\n"
     ]
    },
    {
     "data": {
      "application/vnd.jupyter.widget-view+json": {
       "model_id": "d71f0cede3594af38622e9281e177c36",
       "version_major": 2,
       "version_minor": 0
      },
      "text/plain": [
       "Progress:   0%|          | 0/11 [00:00<?, ?it/s]"
      ]
     },
     "metadata": {},
     "output_type": "display_data"
    },
    {
     "name": "stdout",
     "output_type": "stream",
     "text": [
      "cache path:cache\\TRAIN\\fe9d4b674f5c86e5c1f1dbf7b73420e300a3c39f37f6340eb6bc69d23e81c0be\n",
      "Start Generator Data...\n"
     ]
    },
    {
     "data": {
      "application/vnd.jupyter.widget-view+json": {
       "model_id": "dd80681e156942e68ecec0e8edaf5a7d",
       "version_major": 2,
       "version_minor": 0
      },
      "text/plain": [
       "Progress:   0%|          | 0/11 [00:00<?, ?it/s]"
      ]
     },
     "metadata": {},
     "output_type": "display_data"
    },
    {
     "data": {
      "application/vnd.jupyter.widget-view+json": {
       "model_id": "e50e3e745e104af38a7fc4ef98138610",
       "version_major": 2,
       "version_minor": 0
      },
      "text/plain": [
       "Processing videos 1 :   0%|          | 0/6326 [00:00<?, ?it/s]"
      ]
     },
     "metadata": {},
     "output_type": "display_data"
    },
    {
     "data": {
      "application/vnd.jupyter.widget-view+json": {
       "model_id": "838224f7736b4ba7a077c3be826ccb70",
       "version_major": 2,
       "version_minor": 0
      },
      "text/plain": [
       "Processing videos 2 :   0%|          | 0/6326 [00:00<?, ?it/s]"
      ]
     },
     "metadata": {},
     "output_type": "display_data"
    },
    {
     "data": {
      "application/vnd.jupyter.widget-view+json": {
       "model_id": "263dc43c49b246128286b910b62fc602",
       "version_major": 2,
       "version_minor": 0
      },
      "text/plain": [
       "Processing videos 3 :   0%|          | 0/6325 [00:00<?, ?it/s]"
      ]
     },
     "metadata": {},
     "output_type": "display_data"
    },
    {
     "data": {
      "application/vnd.jupyter.widget-view+json": {
       "model_id": "b79db911c5044dc38901a2df860ab11e",
       "version_major": 2,
       "version_minor": 0
      },
      "text/plain": [
       "Processing videos 4 :   0%|          | 0/6326 [00:00<?, ?it/s]"
      ]
     },
     "metadata": {},
     "output_type": "display_data"
    },
    {
     "data": {
      "application/vnd.jupyter.widget-view+json": {
       "model_id": "862ffd4dbef54f70b61de6576aa8132c",
       "version_major": 2,
       "version_minor": 0
      },
      "text/plain": [
       "Processing videos 5 :   0%|          | 0/6326 [00:00<?, ?it/s]"
      ]
     },
     "metadata": {},
     "output_type": "display_data"
    },
    {
     "data": {
      "application/vnd.jupyter.widget-view+json": {
       "model_id": "5b225f89ce4b4b29a8cab130824db3ed",
       "version_major": 2,
       "version_minor": 0
      },
      "text/plain": [
       "Processing videos 6 :   0%|          | 0/6326 [00:00<?, ?it/s]"
      ]
     },
     "metadata": {},
     "output_type": "display_data"
    },
    {
     "data": {
      "application/vnd.jupyter.widget-view+json": {
       "model_id": "71420d1e17fd4b058401fd4ad3d171b3",
       "version_major": 2,
       "version_minor": 0
      },
      "text/plain": [
       "Processing videos 7 :   0%|          | 0/6326 [00:00<?, ?it/s]"
      ]
     },
     "metadata": {},
     "output_type": "display_data"
    },
    {
     "data": {
      "application/vnd.jupyter.widget-view+json": {
       "model_id": "25e0bb958ae64090a957e8eccf92669b",
       "version_major": 2,
       "version_minor": 0
      },
      "text/plain": [
       "Processing videos 8 :   0%|          | 0/6325 [00:00<?, ?it/s]"
      ]
     },
     "metadata": {},
     "output_type": "display_data"
    },
    {
     "data": {
      "application/vnd.jupyter.widget-view+json": {
       "model_id": "c5e450521e274a47a89a1c71e6163125",
       "version_major": 2,
       "version_minor": 0
      },
      "text/plain": [
       "Processing videos 9 :   0%|          | 0/6325 [00:00<?, ?it/s]"
      ]
     },
     "metadata": {},
     "output_type": "display_data"
    },
    {
     "data": {
      "application/vnd.jupyter.widget-view+json": {
       "model_id": "55b1d0ee4ba448a9abc7dcc3de00d09a",
       "version_major": 2,
       "version_minor": 0
      },
      "text/plain": [
       "Processing videos 10 :   0%|          | 0/6325 [00:00<?, ?it/s]"
      ]
     },
     "metadata": {},
     "output_type": "display_data"
    },
    {
     "data": {
      "application/vnd.jupyter.widget-view+json": {
       "model_id": "478035abc47f4bf3a54e86081aeff44b",
       "version_major": 2,
       "version_minor": 0
      },
      "text/plain": [
       "Processing videos 11:   0%|          | 0/6326 [00:00<?, ?it/s]"
      ]
     },
     "metadata": {},
     "output_type": "display_data"
    }
   ],
   "source": [
    "train_dataloader = None\n",
    "# load train dataset\n",
    "if is_need_train:\n",
    "    train_reader = get_train_reader()\n",
    "    print(f'train_reader: {train_reader.loader_name}')\n",
    "    train_data = train_reader.load_data()\n",
    "    train_data_generator = get_train_data_generator()\n",
    "    train_dataloader = train_data_generator.get_tensor_dataloader(train_data)\n",
    "\n",
    "# if cached and want to second training, set train_twice = True\n",
    "train_twice = True\n",
    "# train\n",
    "if not is_need_train:\n",
    "    print('non train.')\n",
    "else:\n",
    "    from common.train_model import run as run_train\n",
    "    if train_dataloader is None:\n",
    "        raise Exception('load train dataloader first')\n",
    "    if train_twice:\n",
    "        cache_model = Cache(CacheType.MODEL).read_model()\n",
    "        model.load_state_dict(cache_model.state_dict())\n",
    "    run_train(model,train_dataloader,test_dataloader)"
   ]
  },
  {
   "cell_type": "code",
   "execution_count": null,
   "metadata": {},
   "outputs": [
    {
     "name": "stdout",
     "output_type": "stream",
     "text": [
      "cache path:cache\\MODEL\\\n"
     ]
    }
   ],
   "source": [
    "# load test model\n",
    "use_cache_model = False\n",
    "\n",
    "import matplotlib.pyplot as plt\n",
    "import numpy as np\n",
    "if use_cache_model and is_need_train:\n",
    "    cache_model = Cache(CacheType.MODEL).read_model()\n",
    "    model.load_state_dict(cache_model.state_dict())\n",
    "model.eval()\n",
    "model.to(get_device())\n",
    "pass"
   ]
  },
  {
   "cell_type": "code",
   "execution_count": null,
   "metadata": {},
   "outputs": [
    {
     "data": {
      "image/png": "[encoded data removed]",
      "text/plain": [
       "<Figure size 640x480 with 1 Axes>"
      ]
     },
     "metadata": {},
     "output_type": "display_data"
    }
   ],
   "source": [
    "# output image\n",
    "i = 0\n",
    "gpu_device = get_device()\n",
    "for batch_X, batch_y in test_dataloader:\n",
    "    index_n = 1\n",
    "    if i == index_n:\n",
    "        plt.title(\"BVP PRED\")\n",
    "        plt.xlabel(\"T\")\n",
    "        plt.ylabel(\"BVP\")\n",
    "\n",
    "        batch_X = batch_X.to(gpu_device)\n",
    "        batch_y = batch_y.to(gpu_device)\n",
    "        pred = model(batch_X)\n",
    "        true_data = batch_y.cpu().view(-1).numpy()\n",
    "        pred_data = pred.cpu().view(-1).numpy()\n",
    "        true_data = true_data = (true_data - true_data.mean())/true_data.std()\n",
    "        pred_data = pred_data = (pred_data - pred_data.mean())/pred_data.std()\n",
    "        plt.plot(true_data, label=\"True Line\")\n",
    "        plt.plot(pred_data, label=\"Pred Line\")\n",
    "        plt.legend()\n",
    "        plt.show()\n",
    "    if i > index_n:\n",
    "        break\n",
    "    i+=1\n"
   ]
  }
 ],
 "metadata": {
  "kernelspec": {
   "display_name": "compress",
   "language": "python",
   "name": "python3"
  },
  "language_info": {
   "codemirror_mode": {
    "name": "ipython",
    "version": 3
   },
   "file_extension": ".py",
   "mimetype": "text/x-python",
   "name": "python",
   "nbconvert_exporter": "python",
   "pygments_lexer": "ipython3",
   "version": "3.9.18"
  },
  "orig_nbformat": 4
 },
 "nbformat": 4,
 "nbformat_minor": 2
}
