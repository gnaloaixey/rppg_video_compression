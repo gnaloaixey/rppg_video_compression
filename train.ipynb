{
 "cells": [
  {
   "cell_type": "code",
   "execution_count": 1,
   "metadata": {},
   "outputs": [
    {
     "name": "stdout",
     "output_type": "stream",
     "text": [
      "CUDA:\n",
      "---------------------------\n",
      "PyTorch supports GPU and currently has 1 CUDA devices available.\n",
      "The current default CUDA device is: NVIDIA GeForce RTX 3090\n",
      "---------------------------\n",
      "Method and DataGenerator Name: PhysNet\n"
     ]
    }
   ],
   "source": [
    "# config\n",
    "import common.init as init\n",
    "from singleton_pattern.load_model import get_model\n",
    "from  singleton_pattern.load_config import get_config,get_non_dnn_method_list\n",
    "from singleton_pattern.load_dataset_reader import get_train_reader,get_test_reader\n",
    "from singleton_pattern.load_data_generator import get_train_data_generator,get_test_data_generator\n",
    "from common.cache import Cache\n",
    "from common.cuda_info import get_device\n",
    "from common.cache import CacheType\n",
    "config_name = 'PhysNet.yaml'\n",
    "# init\n",
    "init.run(config_name)"
   ]
  },
  {
   "cell_type": "code",
   "execution_count": 2,
   "metadata": {},
   "outputs": [
    {
     "name": "stdout",
     "output_type": "stream",
     "text": [
      "Test Loader: UBFC_Phys\n",
      "Root Path:E:\\UBFC-PHYs_11_12\n",
      "Start Reading UBFC_Phys Dataset Directory...\n"
     ]
    },
    {
     "data": {
      "application/vnd.jupyter.widget-view+json": {
       "model_id": "fcd155778fae47d3b0e6899be7c6040b",
       "version_major": 2,
       "version_minor": 0
      },
      "text/plain": [
       "Progress:   0%|          | 0/2 [00:00<?, ?it/s]"
      ]
     },
     "metadata": {},
     "output_type": "display_data"
    },
    {
     "name": "stdout",
     "output_type": "stream",
     "text": [
      "cache path:E:\\cache\\TEST\\905bea0dd9b0a5782f3b5ea0d1cbbc04dc906690f38dffc6677e6a6eab830ca4\n",
      "Start Generator Data...\n"
     ]
    },
    {
     "data": {
      "application/vnd.jupyter.widget-view+json": {
       "model_id": "036532fcd62a4c34bedc3dd0ad5ccc1e",
       "version_major": 2,
       "version_minor": 0
      },
      "text/plain": [
       "Progress:   0%|          | 0/2 [00:00<?, ?it/s]"
      ]
     },
     "metadata": {},
     "output_type": "display_data"
    },
    {
     "data": {
      "application/vnd.jupyter.widget-view+json": {
       "model_id": "6e2a8992254e48c281d419e539d40bfb",
       "version_major": 2,
       "version_minor": 0
      },
      "text/plain": [
       "Processing videos 1 :   0%|          | 0/6325 [00:00<?, ?it/s]"
      ]
     },
     "metadata": {},
     "output_type": "display_data"
    }
   ],
   "source": [
    "config = get_config()\n",
    "non_dnn_method_list = get_non_dnn_method_list()\n",
    "model = get_model()\n",
    "is_need_train = config['method'] not in non_dnn_method_list\n",
    "# load test dataset\n",
    "test_reader = get_test_reader()\n",
    "test_data_generator = get_test_data_generator()\n",
    "print(f'Test Loader: {test_reader.loader_name}')\n",
    "test_data = test_reader.load_data()\n",
    "test_dataloader = test_data_generator.get_tensor_dataloader(test_data)"
   ]
  },
  {
   "cell_type": "code",
   "execution_count": null,
   "metadata": {},
   "outputs": [],
   "source": [
    "train_dataloader = None\n",
    "# load train dataset\n",
    "if is_need_train:\n",
    "    train_reader = get_train_reader()\n",
    "    print(f'train_reader: {train_reader.loader_name}')\n",
    "    train_data = train_reader.load_data()\n",
    "    train_data_generator = get_train_data_generator()\n",
    "    train_dataloader = train_data_generator.get_tensor_dataloader(train_data)\n",
    "\n",
    "# if cached and want to second training, set train_twice = True\n",
    "train_twice = False\n",
    "# train\n",
    "if not is_need_train:\n",
    "    print('non train.')\n",
    "else:\n",
    "    from common.train_model import run as run_train\n",
    "    if train_dataloader is None:\n",
    "        raise Exception('load train dataloader first')\n",
    "    if train_twice:\n",
    "        cache_model = Cache(CacheType.MODEL).read_model()\n",
    "        model.load_state_dict(cache_model.state_dict())\n",
    "    run_train(model,train_dataloader,test_dataloader)"
   ]
  }
 ],
 "metadata": {
  "kernelspec": {
   "display_name": "compress",
   "language": "python",
   "name": "python3"
  },
  "language_info": {
   "codemirror_mode": {
    "name": "ipython",
    "version": 3
   },
   "file_extension": ".py",
   "mimetype": "text/x-python",
   "name": "python",
   "nbconvert_exporter": "python",
   "pygments_lexer": "ipython3",
   "version": "3.9.18"
  },
  "orig_nbformat": 4
 },
 "nbformat": 4,
 "nbformat_minor": 2
}
